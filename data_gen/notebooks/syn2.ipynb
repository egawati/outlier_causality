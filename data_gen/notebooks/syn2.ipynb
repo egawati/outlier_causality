{
 "cells": [
  {
   "cell_type": "code",
   "execution_count": 1,
   "id": "c2f306dd-024e-45dd-98a3-0b9625476c04",
   "metadata": {
    "tags": []
   },
   "outputs": [],
   "source": [
    "import numpy as np\n",
    "import pandas as pd\n",
    "from scipy.stats import truncexpon, halfnorm\n",
    "import networkx as nx\n",
    "import datetime\n",
    "\n",
    "from causal_gen.basic_ts import find_root_children_nodes\n",
    "from causal_gen.basic_ts import generate_root_data\n",
    "from causal_gen.basic_ts import generate_child_data\n",
    "from causal_gen.basic_ts import generate_data\n",
    "from causal_gen.basic_ts import merge_node_data"
   ]
  },
  {
   "cell_type": "code",
   "execution_count": 2,
   "id": "03b42528-00fb-45cc-b637-f8f21a10d2a1",
   "metadata": {
    "tags": []
   },
   "outputs": [],
   "source": [
    "def generate_root_data_with_outlier(node, \n",
    "                                   node_data, \n",
    "                                   start_ts, \n",
    "                                   n_data, \n",
    "                                   time_propagation, \n",
    "                                   root_cause=False, \n",
    "                                   outlier_position=(),\n",
    "                                   outlier_multiplier=3):\n",
    "    \"\"\"\n",
    "    Generating data for the root nodes\n",
    "    Inputs:\n",
    "        node : string of node name\n",
    "        node_data: dictionary\n",
    "        start_ts: float of timestamp \n",
    "        n_data: int, number of data to generate \n",
    "        time_propagation: float, time needed to propagate value from an upstream node to downstream node (in seconds)\n",
    "    Outputs\n",
    "        updated node_data\n",
    "    \"\"\"\n",
    "    if not root_cause:\n",
    "        generate_root_data(node, node_data, start_ts, n_data, time_propagation)\n",
    "    else:\n",
    "        total_outlier = len(outlier_position)\n",
    "        last_pos = 0\n",
    "        datas = list()\n",
    "        for pos in outlier_position:\n",
    "            n_normal = pos - last_pos\n",
    "            stop_ts = start_ts + n_normal * time_propagation\n",
    "            ts_normal = np.arange(start=start_ts, \n",
    "                                  stop= stop_ts, \n",
    "                                  step=time_propagation)\n",
    "            data_normal = truncexpon.rvs(size=n_normal, b=3, scale=0.2).reshape(-1,1)\n",
    "            root_cause = np.zeros(n_normal)\n",
    "            \n",
    "            ts_outlier = stop_ts + time_propagation\n",
    "            data_outlier = outlier_multiplier * truncexpon.rvs(size=1, b=3, scale=0.2).reshape(-1,1)\n",
    "            root_cause = np.append(root_cause, 1).reshape(-1,1)\n",
    "            \n",
    "            ts = np.append(ts_normal, ts_outlier).reshape(-1,1)\n",
    "        \n",
    "            data = np.vstack((data_normal, data_outlier))\n",
    "            data = np.hstack((data, ts))\n",
    "            data = np.hstack((data, root_cause))\n",
    "            datas.append(data)\n",
    "            \n",
    "            start_ts = stop_ts + time_propagation + 1\n",
    "            last_pos = pos + 1\n",
    "            print(f'at outlier position {pos} , data.shape {data.shape}, ts.shape {ts.shape}')\n",
    "        if last_pos < n_data:\n",
    "            n_normal = n_data - last_pos\n",
    "            data_normal = truncexpon.rvs(size=n_normal, b=3, scale=0.2).reshape(-1,1)\n",
    "            stop_ts = start_ts + n_normal * time_propagation\n",
    "            ts_normal = np.arange(start=start_ts, \n",
    "                                  stop= stop_ts, \n",
    "                                  step=time_propagation).reshape(-1,1)\n",
    "            \n",
    "            data = np.hstack((data_normal, ts_normal))\n",
    "            root_cause = np.zeros(n_normal).reshape(-1,1)\n",
    "            data = np.hstack((data, root_cause))\n",
    "            datas.append(data)\n",
    "        \n",
    "        all_data = None\n",
    "        for data in datas:\n",
    "            if all_data is None:\n",
    "                all_data = data\n",
    "            else:\n",
    "                all_data = np.vstack((all_data, data))\n",
    "        \n",
    "        node_data[node] = {'data' : pd.DataFrame(all_data, columns=(node, f'ts', f'{node}_root_cause')), \n",
    "                       'start_ts' : start_ts,}\n",
    "        return datas"
   ]
  },
  {
   "cell_type": "code",
   "execution_count": 3,
   "id": "68c04813-2c97-4ead-b233-c8d33be8d830",
   "metadata": {
    "tags": []
   },
   "outputs": [
    {
     "name": "stdout",
     "output_type": "stream",
     "text": [
      "at outlier position 2 , data.shape (3, 3), ts.shape (3, 1)\n",
      "at outlier position 8 , data.shape (6, 3), ts.shape (6, 1)\n",
      "len(datas) 3\n",
      "datas[0] (3, 3)\n",
      "datas[1] (6, 3)\n",
      "datas[2] (1, 3)\n",
      "node_data[node][\"data\"].shape (10, 3)\n"
     ]
    }
   ],
   "source": [
    "features = ('X1', 'X2', 'X3', 'X4', 'X5')\n",
    "causal_graph = nx.DiGraph([('X1', 'X2'), \n",
    "                          ('X2', 'X3'),\n",
    "                          ('X3', 'X4'),\n",
    "                          ('X4', 'X5')])\n",
    "time_propagation = 1 # in second\n",
    "start_ts = datetime.datetime.now().timestamp()\n",
    "n_data = 10\n",
    "node_data = {}\n",
    "node = 'X1'\n",
    "datas = generate_root_data_with_outlier(node, \n",
    "                                node_data, \n",
    "                                start_ts, \n",
    "                                n_data, \n",
    "                                time_propagation, \n",
    "                                root_cause=True, \n",
    "                                outlier_position=(2,8),\n",
    "                                outlier_multiplier=3)\n",
    "print(f'len(datas) {len(datas)}')\n",
    "print(f'datas[0] {datas[0].shape}')\n",
    "print(f'datas[1] {datas[1].shape}')\n",
    "print(f'datas[2] {datas[2].shape}')\n",
    "print(f'node_data[node][\"data\"].shape {node_data[node][\"data\"].shape}')"
   ]
  },
  {
   "cell_type": "code",
   "execution_count": 4,
   "id": "49449427-8d46-4783-8fa1-894c76683f04",
   "metadata": {
    "tags": []
   },
   "outputs": [
    {
     "name": "stdout",
     "output_type": "stream",
     "text": [
      "at outlier position 5 , data.shape (6, 3), ts.shape (6, 1)\n",
      "len(datas) 2\n",
      "datas[0] (6, 3)\n",
      "datas[1] (4, 3)\n"
     ]
    }
   ],
   "source": [
    "features = ('X1', 'X2', 'X3', 'X4', 'X5')\n",
    "causal_graph = nx.DiGraph([('X1', 'X2'), \n",
    "                          ('X2', 'X3'),\n",
    "                          ('X3', 'X4'),\n",
    "                          ('X4', 'X5')])\n",
    "time_propagation = 1 # in second\n",
    "start_ts = datetime.datetime.now().timestamp()\n",
    "n_data = 10\n",
    "node_data = {}\n",
    "node = 'X1'\n",
    "datas = generate_root_data_with_outlier(node, \n",
    "                                node_data, \n",
    "                                start_ts, \n",
    "                                n_data, \n",
    "                                time_propagation, \n",
    "                                root_cause=True, \n",
    "                                outlier_position=(5,),\n",
    "                                outlier_multiplier=3)\n",
    "print(f'len(datas) {len(datas)}')\n",
    "print(f'datas[0] {datas[0].shape}')\n",
    "print(f'datas[1] {datas[1].shape}')"
   ]
  },
  {
   "cell_type": "code",
   "execution_count": 5,
   "id": "7211be22-4476-4a6c-b692-6fa105d4fcbb",
   "metadata": {},
   "outputs": [],
   "source": [
    "def generate_child_normal_data(n_normal, \n",
    "                               parents, \n",
    "                               start_ts, \n",
    "                               stop_ts, \n",
    "                               time_propagation):\n",
    "    data_normal = halfnorm.rvs(size= n_normal, loc=0.5, scale=0.2).reshape(-1,1)\n",
    "    ts_normal = np.arange(start=start_ts, \n",
    "                          stop =stop_ts, \n",
    "                          step=time_propagation)\n",
    "    root_cause = np.zeros(n_normal)\n",
    "    return data_normal, ts_normal, root_cause"
   ]
  },
  {
   "cell_type": "code",
   "execution_count": 6,
   "id": "72bfef65-3b1e-417e-abbf-d53524871a9f",
   "metadata": {},
   "outputs": [],
   "source": [
    "def generate_child_data_with_outlier(node, \n",
    "                                     parents, \n",
    "                                     node_data, \n",
    "                                     n_data, \n",
    "                                     time_propagation, \n",
    "                                     root_cause=False, \n",
    "                                     outlier_position=(),\n",
    "                                     outlier_multiplier=3):\n",
    "    \"\"\"\n",
    "    Generating data for the child nodes\n",
    "    Inputs:\n",
    "        node : string of node name\n",
    "        parents : dictionary of the node and its parent nodes\n",
    "        node_data: dictionary\n",
    "        n_data: int, number of data to generate \n",
    "        time_propagation: float, time needed to propagate value from an upstream node to downstream node (in seconds)\n",
    "    Outputs:\n",
    "        updated node_data\n",
    "    \"\"\"\n",
    "    if not root_cause:\n",
    "        generate_child_data(node, parents, node_data, n_data, time_propagation)\n",
    "        node_data[node]['data'][f'{node}_root_cause'] = np.zeros(n_data)\n",
    "    else:\n",
    "        last_pos = 0\n",
    "        datas = list()\n",
    "        \n",
    "        parent_start_ts = list()\n",
    "        for parent in parents:\n",
    "            parent_start_ts.append(node_data[parent]['start_ts'])\n",
    "        start_ts = max(parent_start_ts) + time_propagation\n",
    "        \n",
    "        for pos in outlier_position:\n",
    "            n_normal = pos - last_pos\n",
    "            stop_ts= start_ts + n_normal * time_propagation\n",
    "            data_normal, ts_normal, root_cause = generate_child_normal_data(n_normal, \n",
    "                                                                       parents, \n",
    "                                                                       start_ts, \n",
    "                                                                       stop_ts, \n",
    "                                                                       time_propagation) \n",
    "            data_outlier = outlier_multiplier * halfnorm.rvs(size= 1, loc=0.5, scale=0.2).reshape(-1,1)\n",
    "            ts_outlier = stop_ts + time_propagation\n",
    "            \n",
    "            root_cause = np.append(root_cause, 1).reshape(-1,1)\n",
    "            ts = np.append(ts_normal, ts_outlier).reshape(-1,1)\n",
    "        \n",
    "            data = np.vstack((data_normal, data_outlier))\n",
    "            data = np.hstack((data, ts))\n",
    "            data = np.hstack((data, root_cause))\n",
    "            datas.append(data)\n",
    "            start_ts = stop_ts + time_propagation + 1\n",
    "            last_pos = pos + 1\n",
    "        \n",
    "        if last_pos < n_data:\n",
    "            n_normal = n_data - last_pos\n",
    "            stop_ts = start_ts + n_normal * time_propagation\n",
    "            data_normal, ts_normal, root_cause = generate_child_normal_data(n_normal, \n",
    "                                                                       parents, \n",
    "                                                                       start_ts, \n",
    "                                                                       stop_ts, \n",
    "                                                                       time_propagation) \n",
    "            \n",
    "            data = np.hstack((data_normal, ts_normal))\n",
    "            root_cause = np.zeros(n_normal).reshape(-1,1)\n",
    "            data = np.hstack((data, root_cause))\n",
    "            datas.append(data)\n",
    "        \n",
    "        all_data = None\n",
    "        for data in datas:\n",
    "            if all_data is None:\n",
    "                all_data = data\n",
    "            else:\n",
    "                all_data = np.vstack((all_data, data))\n",
    "        \n",
    "        for parent in parents:\n",
    "            if parent in node_data.keys():\n",
    "                all_data += node_data[parent]['data'][parent].values.reshape(-1,1)\n",
    "            else:\n",
    "                print(f'parent {parent} of node {node} has no data')\n",
    "\n",
    "        node_data[node] = {'data' : pd.DataFrame(all_data, columns=(node, f'ts', f'{node}_root_cause')), \n",
    "                       'start_ts' : start_ts,}"
   ]
  },
  {
   "cell_type": "code",
   "execution_count": 7,
   "id": "76abc7b6-e81a-4249-a9dd-cb0e363866a4",
   "metadata": {},
   "outputs": [
    {
     "name": "stdout",
     "output_type": "stream",
     "text": [
      "at outlier position 5 , data.shape (6, 3), ts.shape (6, 1)\n",
      "len(datas) 2\n",
      "datas[0] (6, 3)\n",
      "datas[1] (4, 3)\n"
     ]
    }
   ],
   "source": [
    "features = ('X1', 'X2', 'X3', 'X4', 'X5')\n",
    "causal_graph = nx.DiGraph([('X1', 'X2'), \n",
    "                          ('X2', 'X3'),\n",
    "                          ('X3', 'X4'),\n",
    "                          ('X4', 'X5')])\n",
    "time_propagation = 1 # in second\n",
    "start_ts = datetime.datetime.now().timestamp()\n",
    "n_data = 10\n",
    "node_data = {}\n",
    "node = 'X1'\n",
    "datas = generate_root_data_with_outlier(node, \n",
    "                                node_data, \n",
    "                                start_ts, \n",
    "                                n_data, \n",
    "                                time_propagation, \n",
    "                                root_cause=True, \n",
    "                                outlier_position=(5,),\n",
    "                                outlier_multiplier=3)\n",
    "print(f'len(datas) {len(datas)}')\n",
    "print(f'datas[0] {datas[0].shape}')\n",
    "print(f'datas[1] {datas[1].shape}')"
   ]
  },
  {
   "cell_type": "code",
   "execution_count": 9,
   "id": "0bcc2c49-ab4c-4720-b533-a1d6fe9ddf36",
   "metadata": {},
   "outputs": [
    {
     "name": "stdout",
     "output_type": "stream",
     "text": [
      "['X1', 'X2', 'X3', 'X4', 'X5']\n"
     ]
    }
   ],
   "source": [
    "features = ('X1', 'X2', 'X3', 'X4', 'X5')\n",
    "causal_graph = nx.DiGraph([('X1', 'X2'), \n",
    "                          ('X2', 'X3'),\n",
    "                          ('X3', 'X4'),\n",
    "                          ('X4', 'X5')])\n",
    "for path in nx.all_simple_paths(causal_graph, source='X1', target='X5'):\n",
    "    print(path)"
   ]
  },
  {
   "cell_type": "code",
   "execution_count": 10,
   "id": "dfeca8ea-82b7-4e2f-ae86-7eda6a4717a0",
   "metadata": {
    "tags": []
   },
   "outputs": [
    {
     "name": "stdout",
     "output_type": "stream",
     "text": [
      "['X2', 'X3', 'X4', 'X5']\n"
     ]
    }
   ],
   "source": [
    "for path in nx.all_simple_paths(causal_graph, source='X2', target='X5'):\n",
    "    print(path)"
   ]
  },
  {
   "cell_type": "code",
   "execution_count": 15,
   "id": "0d03ad74-c577-4195-8d3f-290cfd1d88a6",
   "metadata": {
    "tags": []
   },
   "outputs": [
    {
     "data": {
      "text/plain": [
       "()"
      ]
     },
     "execution_count": 15,
     "metadata": {},
     "output_type": "execute_result"
    }
   ],
   "source": [
    "tuple(nx.all_simple_paths(causal_graph, source='X5', target='X5'))"
   ]
  },
  {
   "cell_type": "code",
   "execution_count": null,
   "id": "b9fddd25-c982-4baf-877b-173c8f462c43",
   "metadata": {},
   "outputs": [],
   "source": []
  }
 ],
 "metadata": {
  "kernelspec": {
   "display_name": "Python 3 (ipykernel)",
   "language": "python",
   "name": "python3"
  },
  "language_info": {
   "codemirror_mode": {
    "name": "ipython",
    "version": 3
   },
   "file_extension": ".py",
   "mimetype": "text/x-python",
   "name": "python",
   "nbconvert_exporter": "python",
   "pygments_lexer": "ipython3",
   "version": "3.8.16"
  }
 },
 "nbformat": 4,
 "nbformat_minor": 5
}
