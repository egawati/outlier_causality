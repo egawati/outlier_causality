{
 "cells": [
  {
   "cell_type": "code",
   "execution_count": 1,
   "id": "27b17748-f0b6-47f0-a0f9-53d1bb410ffd",
   "metadata": {
    "tags": []
   },
   "outputs": [],
   "source": [
    "import numpy as np\n",
    "import pandas as pd\n",
    "import networkx as nx\n",
    "\n",
    "from scipy.stats import halfnorm\n",
    "from dowhy import gcm\n"
   ]
  },
  {
   "cell_type": "markdown",
   "id": "2cfb8081-dc80-46ef-bfb0-8c58780e2f40",
   "metadata": {},
   "source": [
    "## Set causal model"
   ]
  },
  {
   "cell_type": "code",
   "execution_count": 2,
   "id": "c7c4bf89-38dd-447c-a3fa-1c75800c71de",
   "metadata": {
    "tags": []
   },
   "outputs": [
    {
     "data": {
      "image/png": "[encoded data removed]",
      "text/plain": [
       "<Figure size 500x500 with 1 Axes>"
      ]
     },
     "metadata": {},
     "output_type": "display_data"
    }
   ],
   "source": [
    "edges = [('X1', 'X2'), ('X2', 'X3'), ('X3', 'X4'), ('X4', 'X5')]\n",
    "features = ['X1', 'X2', 'X3', 'X4', 'X5']\n",
    "causal_graph = nx.DiGraph(edges)\n",
    "gcm.util.plot(causal_graph, figure_size=[5, 5])"
   ]
  },
  {
   "cell_type": "code",
   "execution_count": 3,
   "id": "b05beb8b-ea97-46c3-aa96-f5b1eafca454",
   "metadata": {
    "tags": []
   },
   "outputs": [],
   "source": [
    "causal_model = gcm.StructuralCausalModel(causal_graph)\n",
    "\n",
    "for node in causal_graph.nodes:\n",
    "    if len(list(causal_graph.predecessors(node))) > 0:\n",
    "        causal_model.set_causal_mechanism(node, gcm.AdditiveNoiseModel(gcm.ml.create_linear_regressor()))\n",
    "    else:\n",
    "        causal_model.set_causal_mechanism(node, gcm.ScipyDistribution(halfnorm))"
   ]
  },
  {
   "cell_type": "markdown",
   "id": "4763023b-3a75-43ba-8614-5069a845de89",
   "metadata": {},
   "source": [
    "## Normal and Outlier Data"
   ]
  },
  {
   "cell_type": "code",
   "execution_count": 4,
   "id": "521e65ef-2808-449d-861a-51f079644f9b",
   "metadata": {
    "tags": []
   },
   "outputs": [
    {
     "data": {
      "text/html": [
       "<div>\n",
       "<style scoped>\n",
       "    .dataframe tbody tr th:only-of-type {\n",
       "        vertical-align: middle;\n",
       "    }\n",
       "\n",
       "    .dataframe tbody tr th {\n",
       "        vertical-align: top;\n",
       "    }\n",
       "\n",
       "    .dataframe thead th {\n",
       "        text-align: right;\n",
       "    }\n",
       "</style>\n",
       "<table border=\"1\" class=\"dataframe\">\n",
       "  <thead>\n",
       "    <tr style=\"text-align: right;\">\n",
       "      <th></th>\n",
       "      <th>X1</th>\n",
       "      <th>X2</th>\n",
       "      <th>X3</th>\n",
       "      <th>X4</th>\n",
       "      <th>X5</th>\n",
       "    </tr>\n",
       "  </thead>\n",
       "  <tbody>\n",
       "    <tr>\n",
       "      <th>0</th>\n",
       "      <td>0.433083</td>\n",
       "      <td>0.989200</td>\n",
       "      <td>1.531002</td>\n",
       "      <td>2.246448</td>\n",
       "      <td>2.912067</td>\n",
       "    </tr>\n",
       "    <tr>\n",
       "      <th>1</th>\n",
       "      <td>0.049239</td>\n",
       "      <td>0.642113</td>\n",
       "      <td>1.252003</td>\n",
       "      <td>1.796512</td>\n",
       "      <td>2.407644</td>\n",
       "    </tr>\n",
       "    <tr>\n",
       "      <th>2</th>\n",
       "      <td>0.038931</td>\n",
       "      <td>0.619505</td>\n",
       "      <td>1.157134</td>\n",
       "      <td>1.683820</td>\n",
       "      <td>2.448793</td>\n",
       "    </tr>\n",
       "    <tr>\n",
       "      <th>3</th>\n",
       "      <td>0.068667</td>\n",
       "      <td>0.604302</td>\n",
       "      <td>1.115060</td>\n",
       "      <td>1.655035</td>\n",
       "      <td>2.331757</td>\n",
       "    </tr>\n",
       "    <tr>\n",
       "      <th>4</th>\n",
       "      <td>0.098337</td>\n",
       "      <td>0.831786</td>\n",
       "      <td>1.392076</td>\n",
       "      <td>1.959631</td>\n",
       "      <td>2.514895</td>\n",
       "    </tr>\n",
       "    <tr>\n",
       "      <th>...</th>\n",
       "      <td>...</td>\n",
       "      <td>...</td>\n",
       "      <td>...</td>\n",
       "      <td>...</td>\n",
       "      <td>...</td>\n",
       "    </tr>\n",
       "    <tr>\n",
       "      <th>994</th>\n",
       "      <td>0.222297</td>\n",
       "      <td>0.910948</td>\n",
       "      <td>1.589055</td>\n",
       "      <td>2.332681</td>\n",
       "      <td>2.993872</td>\n",
       "    </tr>\n",
       "    <tr>\n",
       "      <th>995</th>\n",
       "      <td>0.143875</td>\n",
       "      <td>0.721204</td>\n",
       "      <td>1.352816</td>\n",
       "      <td>2.215001</td>\n",
       "      <td>2.817272</td>\n",
       "    </tr>\n",
       "    <tr>\n",
       "      <th>996</th>\n",
       "      <td>0.208570</td>\n",
       "      <td>0.876437</td>\n",
       "      <td>1.571246</td>\n",
       "      <td>2.183456</td>\n",
       "      <td>2.752578</td>\n",
       "    </tr>\n",
       "    <tr>\n",
       "      <th>997</th>\n",
       "      <td>0.073809</td>\n",
       "      <td>0.686893</td>\n",
       "      <td>1.232327</td>\n",
       "      <td>1.759772</td>\n",
       "      <td>2.515993</td>\n",
       "    </tr>\n",
       "    <tr>\n",
       "      <th>998</th>\n",
       "      <td>0.193714</td>\n",
       "      <td>0.908870</td>\n",
       "      <td>1.501288</td>\n",
       "      <td>2.219930</td>\n",
       "      <td>3.019419</td>\n",
       "    </tr>\n",
       "  </tbody>\n",
       "</table>\n",
       "<p>999 rows × 5 columns</p>\n",
       "</div>"
      ],
      "text/plain": [
       "           X1        X2        X3        X4        X5\n",
       "0    0.433083  0.989200  1.531002  2.246448  2.912067\n",
       "1    0.049239  0.642113  1.252003  1.796512  2.407644\n",
       "2    0.038931  0.619505  1.157134  1.683820  2.448793\n",
       "3    0.068667  0.604302  1.115060  1.655035  2.331757\n",
       "4    0.098337  0.831786  1.392076  1.959631  2.514895\n",
       "..        ...       ...       ...       ...       ...\n",
       "994  0.222297  0.910948  1.589055  2.332681  2.993872\n",
       "995  0.143875  0.721204  1.352816  2.215001  2.817272\n",
       "996  0.208570  0.876437  1.571246  2.183456  2.752578\n",
       "997  0.073809  0.686893  1.232327  1.759772  2.515993\n",
       "998  0.193714  0.908870  1.501288  2.219930  3.019419\n",
       "\n",
       "[999 rows x 5 columns]"
      ]
     },
     "execution_count": 4,
     "metadata": {},
     "output_type": "execute_result"
    }
   ],
   "source": [
    "normal_data = pd.read_csv('../dataset/test_X1_X5_notimestamp_normal.csv')\n",
    "normal_data"
   ]
  },
  {
   "cell_type": "code",
   "execution_count": 5,
   "id": "0f3c8372-f727-4016-a165-c637f2cb3624",
   "metadata": {
    "tags": []
   },
   "outputs": [
    {
     "data": {
      "text/html": [
       "<div>\n",
       "<style scoped>\n",
       "    .dataframe tbody tr th:only-of-type {\n",
       "        vertical-align: middle;\n",
       "    }\n",
       "\n",
       "    .dataframe tbody tr th {\n",
       "        vertical-align: top;\n",
       "    }\n",
       "\n",
       "    .dataframe thead th {\n",
       "        text-align: right;\n",
       "    }\n",
       "</style>\n",
       "<table border=\"1\" class=\"dataframe\">\n",
       "  <thead>\n",
       "    <tr style=\"text-align: right;\">\n",
       "      <th></th>\n",
       "      <th>X1</th>\n",
       "      <th>X2</th>\n",
       "      <th>X3</th>\n",
       "      <th>X4</th>\n",
       "      <th>X5</th>\n",
       "    </tr>\n",
       "  </thead>\n",
       "  <tbody>\n",
       "    <tr>\n",
       "      <th>0</th>\n",
       "      <td>3.309117</td>\n",
       "      <td>3.856328</td>\n",
       "      <td>4.427452</td>\n",
       "      <td>4.970131</td>\n",
       "      <td>5.742589</td>\n",
       "    </tr>\n",
       "  </tbody>\n",
       "</table>\n",
       "</div>"
      ],
      "text/plain": [
       "         X1        X2        X3        X4        X5\n",
       "0  3.309117  3.856328  4.427452  4.970131  5.742589"
      ]
     },
     "execution_count": 5,
     "metadata": {},
     "output_type": "execute_result"
    }
   ],
   "source": [
    "outlier_data = pd.read_csv('../dataset/test_X1_X5_notimestamp_outlier.csv')\n",
    "outlier_data"
   ]
  },
  {
   "cell_type": "markdown",
   "id": "f52120fe-647c-4cc9-9f0b-95456941aa86",
   "metadata": {},
   "source": [
    "## Finding the root cause of the outlier"
   ]
  },
  {
   "cell_type": "code",
   "execution_count": null,
   "id": "021ba30b-adfe-445e-aeae-7dfade5260b9",
   "metadata": {
    "tags": []
   },
   "outputs": [
    {
     "name": "stderr",
     "output_type": "stream",
     "text": [
      "fitting causal model at node X1\n",
      "fitting causal model at node X2\n",
      "fitting causal model at node X3\n",
      "fitting causal model at node X4\n",
      "fitting causal model at node X5\n",
      "anomaly samples          X1        X2        X3        X4        X5\n",
      "0  3.309117  3.856328  4.427452  4.970131  5.742589\n",
      "noise_of_anomaly_samples \n",
      "         X1        X2        X3        X4        X5\n",
      "0  3.309117 -0.120923  0.021874 -0.150807  0.170255\n",
      "noise_of_anomaly_samples.shape = anomaly_samples.shape\n"
     ]
    }
   ],
   "source": [
    "gcm.config.disable_progress_bars() # to disable print statements when computing Shapley values\n",
    "\n",
    "median_attribs, uncertainty_attribs = gcm.confidence_intervals(\n",
    "    gcm.fit_and_compute(gcm.attribute_anomalies,\n",
    "                        causal_model,\n",
    "                        normal_data,\n",
    "                        target_node='X5',\n",
    "                        anomaly_samples=outlier_data),\n",
    "    num_bootstrap_resamples=10)"
   ]
  },
  {
   "cell_type": "code",
   "execution_count": null,
   "id": "d8122eaa-e3f5-4f10-bb59-7ab491fe3b67",
   "metadata": {
    "tags": []
   },
   "outputs": [],
   "source": [
    "gcm.util.bar_plot(median_attribs, uncertainty_attribs, 'Attribution Score')"
   ]
  },
  {
   "cell_type": "code",
   "execution_count": null,
   "id": "1e634693-d396-40a2-9ecc-215847c03db9",
   "metadata": {},
   "outputs": [],
   "source": []
  }
 ],
 "metadata": {
  "kernelspec": {
   "display_name": "Python 3 (ipykernel)",
   "language": "python",
   "name": "python3"
  },
  "language_info": {
   "codemirror_mode": {
    "name": "ipython",
    "version": 3
   },
   "file_extension": ".py",
   "mimetype": "text/x-python",
   "name": "python",
   "nbconvert_exporter": "python",
   "pygments_lexer": "ipython3",
   "version": "3.8.13"
  }
 },
 "nbformat": 4,
 "nbformat_minor": 5
}
