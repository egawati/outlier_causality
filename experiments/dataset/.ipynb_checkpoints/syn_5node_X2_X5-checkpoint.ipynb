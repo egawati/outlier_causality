{
 "cells": [
  {
   "cell_type": "code",
   "execution_count": 2,
   "id": "b3722d39-6e31-4987-822b-450f8c8ae8ca",
   "metadata": {
    "tags": []
   },
   "outputs": [],
   "source": [
    "import pandas as pd\n",
    "import numpy as np\n",
    "import networkx as nx\n",
    "import datetime\n",
    "\n",
    "from causal_gen.basic_ts_with_outlier import generate_data_with_outliers\n",
    "from causal_gen.basic_ts_with_outlier import merge_node_data_with_outliers"
   ]
  },
  {
   "cell_type": "code",
   "execution_count": 3,
   "id": "3bb029a2-0f38-4b46-883c-008b719762bc",
   "metadata": {
    "tags": []
   },
   "outputs": [
    {
     "data": {
      "text/plain": [
       "14"
      ]
     },
     "execution_count": 3,
     "metadata": {},
     "output_type": "execute_result"
    }
   ],
   "source": [
    "exp_name = 'syn_5node_X2_X5'\n",
    "features = ('X1', 'X2', 'X3', 'X4', 'X5')\n",
    "causal_graph = nx.DiGraph([('X1', 'X2'), \n",
    "                          ('X2', 'X3'),\n",
    "                          ('X3', 'X4'),\n",
    "                          ('X4', 'X5')])\n",
    "n_data = 1440\n",
    "basic_time = datetime.datetime.now().timestamp()\n",
    "time_propagation = 1.0\n",
    "outlier_fraction = 0.01\n",
    "n_outliers = int(outlier_fraction * n_data)\n",
    "n_outliers"
   ]
  },
  {
   "cell_type": "code",
   "execution_count": 3,
   "id": "acf07f8e-c0e4-4917-b22a-fa92a81de7ba",
   "metadata": {
    "tags": []
   },
   "outputs": [],
   "source": [
    "node_data = generate_data_with_outliers(causal_graph=causal_graph, \n",
    "                                        basic_time=basic_time, \n",
    "                                        n_data=n_data, \n",
    "                                        time_propagation=time_propagation, \n",
    "                                        n_outliers=n_outliers, \n",
    "                                        outlier_root_cause_node='X2',\n",
    "                                        outlier_multiplier=3)\n",
    "df = merge_node_data_with_outliers(node_data = node_data, \n",
    "                                  causal_graph = causal_graph, \n",
    "                                  target_node = 'X5',\n",
    "                                  basic_time = basic_time,\n",
    "                                  time_propagation = time_propagation)\n"
   ]
  },
  {
   "cell_type": "code",
   "execution_count": 4,
   "id": "fbd57ac5-a7d1-4deb-92c3-e55ef9d49e98",
   "metadata": {
    "tags": []
   },
   "outputs": [
    {
     "data": {
      "text/html": [
       "<div>\n",
       "<style scoped>\n",
       "    .dataframe tbody tr th:only-of-type {\n",
       "        vertical-align: middle;\n",
       "    }\n",
       "\n",
       "    .dataframe tbody tr th {\n",
       "        vertical-align: top;\n",
       "    }\n",
       "\n",
       "    .dataframe thead th {\n",
       "        text-align: right;\n",
       "    }\n",
       "</style>\n",
       "<table border=\"1\" class=\"dataframe\">\n",
       "  <thead>\n",
       "    <tr style=\"text-align: right;\">\n",
       "      <th></th>\n",
       "      <th>X1</th>\n",
       "      <th>X2</th>\n",
       "      <th>X3</th>\n",
       "      <th>X4</th>\n",
       "      <th>X5</th>\n",
       "      <th>label</th>\n",
       "      <th>root_cause_gt</th>\n",
       "    </tr>\n",
       "  </thead>\n",
       "  <tbody>\n",
       "    <tr>\n",
       "      <th>0</th>\n",
       "      <td>0.006014</td>\n",
       "      <td>0.808907</td>\n",
       "      <td>1.813013</td>\n",
       "      <td>2.604945</td>\n",
       "      <td>2.835144</td>\n",
       "      <td>0.0</td>\n",
       "      <td>nan</td>\n",
       "    </tr>\n",
       "    <tr>\n",
       "      <th>1</th>\n",
       "      <td>0.112838</td>\n",
       "      <td>0.596478</td>\n",
       "      <td>1.468006</td>\n",
       "      <td>2.447906</td>\n",
       "      <td>3.247722</td>\n",
       "      <td>0.0</td>\n",
       "      <td>nan</td>\n",
       "    </tr>\n",
       "    <tr>\n",
       "      <th>2</th>\n",
       "      <td>0.436213</td>\n",
       "      <td>0.752160</td>\n",
       "      <td>1.224968</td>\n",
       "      <td>2.075342</td>\n",
       "      <td>3.082782</td>\n",
       "      <td>0.0</td>\n",
       "      <td>nan</td>\n",
       "    </tr>\n",
       "    <tr>\n",
       "      <th>3</th>\n",
       "      <td>0.345462</td>\n",
       "      <td>0.969085</td>\n",
       "      <td>1.253026</td>\n",
       "      <td>2.160821</td>\n",
       "      <td>2.848762</td>\n",
       "      <td>0.0</td>\n",
       "      <td>nan</td>\n",
       "    </tr>\n",
       "    <tr>\n",
       "      <th>4</th>\n",
       "      <td>0.018821</td>\n",
       "      <td>1.027016</td>\n",
       "      <td>1.807811</td>\n",
       "      <td>1.768721</td>\n",
       "      <td>2.747768</td>\n",
       "      <td>0.0</td>\n",
       "      <td>nan</td>\n",
       "    </tr>\n",
       "    <tr>\n",
       "      <th>...</th>\n",
       "      <td>...</td>\n",
       "      <td>...</td>\n",
       "      <td>...</td>\n",
       "      <td>...</td>\n",
       "      <td>...</td>\n",
       "      <td>...</td>\n",
       "      <td>...</td>\n",
       "    </tr>\n",
       "    <tr>\n",
       "      <th>1431</th>\n",
       "      <td>0.257525</td>\n",
       "      <td>1.136444</td>\n",
       "      <td>1.414074</td>\n",
       "      <td>2.151714</td>\n",
       "      <td>2.623115</td>\n",
       "      <td>0.0</td>\n",
       "      <td>nan</td>\n",
       "    </tr>\n",
       "    <tr>\n",
       "      <th>1432</th>\n",
       "      <td>0.265646</td>\n",
       "      <td>1.439635</td>\n",
       "      <td>1.927991</td>\n",
       "      <td>1.957743</td>\n",
       "      <td>2.923583</td>\n",
       "      <td>0.0</td>\n",
       "      <td>nan</td>\n",
       "    </tr>\n",
       "    <tr>\n",
       "      <th>1433</th>\n",
       "      <td>0.343237</td>\n",
       "      <td>0.921292</td>\n",
       "      <td>2.339110</td>\n",
       "      <td>2.747413</td>\n",
       "      <td>2.630640</td>\n",
       "      <td>0.0</td>\n",
       "      <td>nan</td>\n",
       "    </tr>\n",
       "    <tr>\n",
       "      <th>1434</th>\n",
       "      <td>0.229104</td>\n",
       "      <td>1.174476</td>\n",
       "      <td>1.654569</td>\n",
       "      <td>2.865732</td>\n",
       "      <td>3.607771</td>\n",
       "      <td>0.0</td>\n",
       "      <td>nan</td>\n",
       "    </tr>\n",
       "    <tr>\n",
       "      <th>1435</th>\n",
       "      <td>0.044529</td>\n",
       "      <td>0.875176</td>\n",
       "      <td>2.120083</td>\n",
       "      <td>2.564523</td>\n",
       "      <td>3.564423</td>\n",
       "      <td>0.0</td>\n",
       "      <td>nan</td>\n",
       "    </tr>\n",
       "  </tbody>\n",
       "</table>\n",
       "<p>1436 rows × 7 columns</p>\n",
       "</div>"
      ],
      "text/plain": [
       "            X1        X2        X3        X4        X5  label root_cause_gt\n",
       "0     0.006014  0.808907  1.813013  2.604945  2.835144    0.0           nan\n",
       "1     0.112838  0.596478  1.468006  2.447906  3.247722    0.0           nan\n",
       "2     0.436213  0.752160  1.224968  2.075342  3.082782    0.0           nan\n",
       "3     0.345462  0.969085  1.253026  2.160821  2.848762    0.0           nan\n",
       "4     0.018821  1.027016  1.807811  1.768721  2.747768    0.0           nan\n",
       "...        ...       ...       ...       ...       ...    ...           ...\n",
       "1431  0.257525  1.136444  1.414074  2.151714  2.623115    0.0           nan\n",
       "1432  0.265646  1.439635  1.927991  1.957743  2.923583    0.0           nan\n",
       "1433  0.343237  0.921292  2.339110  2.747413  2.630640    0.0           nan\n",
       "1434  0.229104  1.174476  1.654569  2.865732  3.607771    0.0           nan\n",
       "1435  0.044529  0.875176  2.120083  2.564523  3.564423    0.0           nan\n",
       "\n",
       "[1436 rows x 7 columns]"
      ]
     },
     "execution_count": 4,
     "metadata": {},
     "output_type": "execute_result"
    }
   ],
   "source": [
    "df"
   ]
  },
  {
   "cell_type": "code",
   "execution_count": 5,
   "id": "11650a34-0785-4a3e-88a0-32bb1aa4388d",
   "metadata": {},
   "outputs": [
    {
     "data": {
      "text/plain": [
       "Index(['X1', 'X2', 'X3', 'X4', 'X5', 'label', 'root_cause_gt'], dtype='object')"
      ]
     },
     "execution_count": 5,
     "metadata": {},
     "output_type": "execute_result"
    }
   ],
   "source": [
    "l_features = list(features)\n",
    "l_features.append('label')\n",
    "l_features.append('root_cause_gt')\n",
    "df = df.loc[:, l_features]\n",
    "df.to_csv(f'{exp_name}.csv', index=False, sep=',')"
   ]
  }
 ],
 "metadata": {
  "kernelspec": {
   "display_name": "Python 3 (ipykernel)",
   "language": "python",
   "name": "python3"
  },
  "language_info": {
   "codemirror_mode": {
    "name": "ipython",
    "version": 3
   },
   "file_extension": ".py",
   "mimetype": "text/x-python",
   "name": "python",
   "nbconvert_exporter": "python",
   "pygments_lexer": "ipython3",
   "version": "3.8.16"
  }
 },
 "nbformat": 4,
 "nbformat_minor": 5
}
