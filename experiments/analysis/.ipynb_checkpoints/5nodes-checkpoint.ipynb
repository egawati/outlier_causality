{
 "cells": [
  {
   "cell_type": "code",
   "execution_count": 1,
   "id": "0fb03de6-2e89-4114-8a8d-00a0cd09d8f0",
   "metadata": {
    "tags": []
   },
   "outputs": [],
   "source": [
    "import json\n",
    "import scipy.stats as stats"
   ]
  },
  {
   "cell_type": "code",
   "execution_count": 2,
   "id": "67a16495-9459-4935-9e59-1766c5a7ff6f",
   "metadata": {
    "tags": []
   },
   "outputs": [],
   "source": [
    "def get_performance_metrics(filepath):\n",
    "    with open(filepath) as file:\n",
    "        contents = file.read()\n",
    "    parsed_json = json.loads(contents)\n",
    "    f1 = parsed_json['accuracy_metrics']['f1']\n",
    "    avg_explanation_time = parsed_json['average_explanation_time']\n",
    "    return f1, avg_explanation_time\n",
    "\n",
    "def summarise_performance_metrics(folder, seeds, bname, nslide_used):\n",
    "    result_f1 = {}\n",
    "    result_avg_exp_time = {}\n",
    "    for seed in seeds:\n",
    "        filename = f'performance_{bname}_seed{seed}_{nslide_used}.json'\n",
    "        filepath = f'{folder}/{filename}'\n",
    "        f1, avg_exp_time = get_performance_metrics(filepath)\n",
    "        key = f'{bname}_{seed}'\n",
    "        result_f1[key] = f1\n",
    "        result_avg_exp_time[key] = avg_exp_time\n",
    "    return result_f1, result_avg_exp_time\n",
    "\n",
    "def merge_dictionary(dict1, dict2):\n",
    "    dict3 = dict1.copy()\n",
    "    dict3.update(dict2)\n",
    "    return dict3"
   ]
  },
  {
   "cell_type": "code",
   "execution_count": 3,
   "id": "05e27ef1-d4a7-4489-9f8a-27f02e6fab3a",
   "metadata": {},
   "outputs": [],
   "source": [
    "seed_1 = (0, 2, 7, 13)\n",
    "seed_2 = (3, 47, 99, 101)\n",
    "bname_1 = 'rand_syn_5node_X1_X5'\n",
    "bname_2 = 'rand_syn_5node_X2_X5'\n",
    "gcm_path_1 = f'../gcm/result/nslide_used'\n",
    "ocular_path_1 = f'../ocular/result/nslide_used'\n",
    "gcm_path_2 = f'../gcm/result/nslide_used2'\n",
    "ocular_path_2 = f'../ocular/result/nslide_used2'"
   ]
  },
  {
   "cell_type": "code",
   "execution_count": 4,
   "id": "298136db-a98c-4edd-911d-e7a7f9c3a6f6",
   "metadata": {
    "tags": []
   },
   "outputs": [],
   "source": [
    "gcm_f1_1, gcm_avg_exp_time_1 = summarise_performance_metrics(gcm_path_1, seed_1, bname_1, 4)\n",
    "gcm_f1_2, gcm_avg_exp_time_2 = summarise_performance_metrics(gcm_path_2, seed_2, bname_2, 4)\n",
    "gcm_f1 = merge_dictionary(gcm_f1_1, gcm_f1_2)\n",
    "gcm_avg_exp_time = merge_dictionary(gcm_avg_exp_time_1, gcm_avg_exp_time_2)"
   ]
  },
  {
   "cell_type": "code",
   "execution_count": 5,
   "id": "bfc715a8-a2ab-4d2a-a536-8fb6c5c89abe",
   "metadata": {
    "tags": []
   },
   "outputs": [],
   "source": [
    "ocular_f1_1, ocular_avg_exp_time_1 = summarise_performance_metrics(ocular_path_1, seed_1, bname_1, 2)\n",
    "ocular_f1_2, ocular_avg_exp_time_2 = summarise_performance_metrics(ocular_path_2, seed_2, bname_2, 2)\n",
    "ocular_f1 = merge_dictionary(ocular_f1_1, ocular_f1_2)\n",
    "ocular_avg_exp_time = merge_dictionary(ocular_avg_exp_time_1, ocular_avg_exp_time_2)"
   ]
  },
  {
   "cell_type": "code",
   "execution_count": null,
   "id": "2e7f35a0-1ef7-4b66-b688-1ef1f8947996",
   "metadata": {},
   "outputs": [],
   "source": []
  }
 ],
 "metadata": {
  "kernelspec": {
   "display_name": "Python 3 (ipykernel)",
   "language": "python",
   "name": "python3"
  },
  "language_info": {
   "codemirror_mode": {
    "name": "ipython",
    "version": 3
   },
   "file_extension": ".py",
   "mimetype": "text/x-python",
   "name": "python",
   "nbconvert_exporter": "python",
   "pygments_lexer": "ipython3",
   "version": "3.8.16"
  }
 },
 "nbformat": 4,
 "nbformat_minor": 5
}
