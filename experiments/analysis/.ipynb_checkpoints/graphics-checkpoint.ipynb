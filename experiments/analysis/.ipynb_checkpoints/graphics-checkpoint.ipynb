{
 "cells": [
  {
   "cell_type": "code",
   "execution_count": 1,
   "id": "fa3e0508-7378-4163-a5f8-66651dbe131b",
   "metadata": {
    "tags": []
   },
   "outputs": [],
   "source": [
    "import seaborn as sns\n",
    "import matplotlib.pyplot as plt\n",
    "from matplotlib.backends.backend_pdf import PdfPages\n",
    "import seaborn as sns\n",
    "import pandas as pd\n",
    "pd.set_option('display.precision', 3)\n",
    "import json\n",
    "import numpy as np"
   ]
  },
  {
   "cell_type": "code",
   "execution_count": 2,
   "id": "2d2e08c6-de0c-47d6-b91d-3d9e276d77d4",
   "metadata": {
    "tags": []
   },
   "outputs": [],
   "source": [
    "def plot_lines(ax, xval, ys, xlabel, ylabel, lines, labels, colors, markersize, yticks=None, xticks=None):\n",
    "    for i in range(len(labels)):\n",
    "        ax.plot(xval, ys[i], lines[i], markersize=markersize, color=colors[i])\n",
    "    ax.set_xlabel(xlabel)\n",
    "    ax.set_ylabel(ylabel)\n",
    "    ax.grid(axis='x', color='0.95')\n",
    "    if yticks is not None:\n",
    "        ax.set_ylim(yticks)\n",
    "    if xticks is not None:\n",
    "        ax.set_ylim(yticks)\n",
    "    return ax\n",
    "\n",
    "def draw_multiple_plots(data_dict, \n",
    "                        nsubplots, figsize, \n",
    "                        sharey=True, markersize=10):\n",
    "    \"\"\"\n",
    "    yvals is a dictionary \n",
    "    \"\"\"\n",
    "    fig, axs = plt.subplots(1, nsubplots, figsize=figsize, sharey=sharey)\n",
    "    for i, key in enumerate(list(data_dict.keys())):\n",
    "        axs[i] = plot_lines(ax = axs[i], \n",
    "                            xval = data_dict[key]['X'], \n",
    "                            ys= data_dict[key]['ys'], \n",
    "                            xlabel = data_dict[key]['xlabel'], \n",
    "                            ylabel = data_dict[key]['ylabel'], \n",
    "                            lines = data_dict[key]['lines'], \n",
    "                            labels = data_dict[key]['labels'],\n",
    "                           colors = data_dict[key]['colors'],\n",
    "                           markersize=markersize,\n",
    "                           yticks = data_dict[key]['yticks'],\n",
    "                           xticks = data_dict[key]['xticks'])\n",
    "    axs[-1].legend(labels=data_dict[key]['labels'], loc='center left', bbox_to_anchor=(1, 0.5))\n",
    "    plt.xticks(fontsize=12)\n",
    "    plt.yticks(fontsize=12)\n",
    "    #plt.grid(axis='x', color='0.95')\n",
    "    return fig"
   ]
  },
  {
   "cell_type": "code",
   "execution_count": null,
   "id": "33ef703a-a9e9-4d95-9fe5-87bb9acf9185",
   "metadata": {},
   "outputs": [],
   "source": []
  }
 ],
 "metadata": {
  "kernelspec": {
   "display_name": "Python 3 (ipykernel)",
   "language": "python",
   "name": "python3"
  },
  "language_info": {
   "codemirror_mode": {
    "name": "ipython",
    "version": 3
   },
   "file_extension": ".py",
   "mimetype": "text/x-python",
   "name": "python",
   "nbconvert_exporter": "python",
   "pygments_lexer": "ipython3",
   "version": "3.8.16"
  }
 },
 "nbformat": 4,
 "nbformat_minor": 5
}
