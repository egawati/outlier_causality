{
 "cells": [
  {
   "cell_type": "code",
   "execution_count": 1,
   "id": "c1ae507e-ee8d-4e0e-b3cd-efc2435408e4",
   "metadata": {},
   "outputs": [],
   "source": [
    "import numpy as np\n",
    "import pandas as pd\n",
    "import networkx as nx\n",
    "import datetime\n",
    "from scipy.stats import truncexpon, halfnorm"
   ]
  },
  {
   "cell_type": "code",
   "execution_count": 2,
   "id": "1e32b6ac-cf12-4fae-bb12-3927facc7b07",
   "metadata": {},
   "outputs": [
    {
     "data": {
      "text/plain": [
       "networkx.classes.digraph.DiGraph"
      ]
     },
     "execution_count": 2,
     "metadata": {},
     "output_type": "execute_result"
    }
   ],
   "source": [
    "features = ('X1', 'X2', 'X3', 'X4', 'X5')\n",
    "causal_graph = nx.DiGraph([('X1', 'X2'), \n",
    "                          ('X2', 'X3'),\n",
    "                          ('X3', 'X4'),\n",
    "                          ('X4', 'X5')])\n",
    "#gcm.util.plot(causal_graph, figure_size=[13, 13])\n",
    "causal_graph.nodes\n",
    "type(causal_graph)"
   ]
  },
  {
   "cell_type": "code",
   "execution_count": 3,
   "id": "99ced55b-2c0d-423e-9332-201e626d980f",
   "metadata": {},
   "outputs": [
    {
     "name": "stdout",
     "output_type": "stream",
     "text": [
      "root node : X1\n",
      "child node X2 of parents ['X1']\n",
      "child node X3 of parents ['X2']\n",
      "child node X4 of parents ['X3']\n",
      "child node X5 of parents ['X4']\n",
      "root : ['X1']\n",
      "parents : {'X2': ['X1'], 'X3': ['X2'], 'X4': ['X3'], 'X5': ['X4']}\n"
     ]
    }
   ],
   "source": [
    "def find_root_children_nodes(causal_graph):\n",
    "    root = list()\n",
    "    parents = dict()\n",
    "    for node in causal_graph.nodes:\n",
    "        predecessors = list(causal_graph.predecessors(node))\n",
    "        if predecessors:\n",
    "            parents[node] = predecessors\n",
    "            print(f'child node {node} of parents {predecessors}')\n",
    "        else:\n",
    "            root.append(node)\n",
    "            print(f'root node : {node}')\n",
    "    return root, parents\n",
    "root, node_parents = find_root_children_nodes(causal_graph)\n",
    "print(f'root : {root}')\n",
    "print(f'parents : {node_parents}')"
   ]
  },
  {
   "cell_type": "code",
   "execution_count": 4,
   "id": "3afd5a38-96bb-4436-a825-8cb7bc398400",
   "metadata": {
    "tags": []
   },
   "outputs": [],
   "source": [
    "time_propagation = 1 # in second\n",
    "basic_time = datetime.datetime.now().timestamp()\n",
    "n_data = 100"
   ]
  },
  {
   "cell_type": "code",
   "execution_count": 5,
   "id": "8b036685-1634-4fcd-bd1d-794dc146a373",
   "metadata": {
    "tags": []
   },
   "outputs": [
    {
     "data": {
      "text/html": [
       "<div>\n",
       "<style scoped>\n",
       "    .dataframe tbody tr th:only-of-type {\n",
       "        vertical-align: middle;\n",
       "    }\n",
       "\n",
       "    .dataframe tbody tr th {\n",
       "        vertical-align: top;\n",
       "    }\n",
       "\n",
       "    .dataframe thead th {\n",
       "        text-align: right;\n",
       "    }\n",
       "</style>\n",
       "<table border=\"1\" class=\"dataframe\">\n",
       "  <thead>\n",
       "    <tr style=\"text-align: right;\">\n",
       "      <th></th>\n",
       "      <th>X1</th>\n",
       "      <th>ts</th>\n",
       "    </tr>\n",
       "  </thead>\n",
       "  <tbody>\n",
       "    <tr>\n",
       "      <th>0</th>\n",
       "      <td>0.049228</td>\n",
       "      <td>1.675704e+09</td>\n",
       "    </tr>\n",
       "    <tr>\n",
       "      <th>1</th>\n",
       "      <td>0.077307</td>\n",
       "      <td>1.675704e+09</td>\n",
       "    </tr>\n",
       "    <tr>\n",
       "      <th>2</th>\n",
       "      <td>0.080297</td>\n",
       "      <td>1.675704e+09</td>\n",
       "    </tr>\n",
       "    <tr>\n",
       "      <th>3</th>\n",
       "      <td>0.020479</td>\n",
       "      <td>1.675704e+09</td>\n",
       "    </tr>\n",
       "    <tr>\n",
       "      <th>4</th>\n",
       "      <td>0.026184</td>\n",
       "      <td>1.675704e+09</td>\n",
       "    </tr>\n",
       "  </tbody>\n",
       "</table>\n",
       "</div>"
      ],
      "text/plain": [
       "         X1            ts\n",
       "0  0.049228  1.675704e+09\n",
       "1  0.077307  1.675704e+09\n",
       "2  0.080297  1.675704e+09\n",
       "3  0.020479  1.675704e+09\n",
       "4  0.026184  1.675704e+09"
      ]
     },
     "execution_count": 5,
     "metadata": {},
     "output_type": "execute_result"
    }
   ],
   "source": [
    "def generate_root_data(node, node_data, start_ts, n_data, time_propagation):\n",
    "    ts = np.arange(start=start_ts, \n",
    "                   stop=start_ts + n_data * time_propagation, \n",
    "                   step=time_propagation).reshape(-1,1)\n",
    "    data = truncexpon.rvs(size=n_data, b=3, scale=0.2).reshape(-1,1)\n",
    "    data_ts = np.hstack((data, ts))\n",
    "    node_data[node] = {'data' : pd.DataFrame(data_ts, columns=(node, f'ts')), \n",
    "                       'start_ts' : start_ts,}  \n",
    "node_data = {}\n",
    "generate_root_data(node='X1', \n",
    "                   node_data=node_data, \n",
    "                   start_ts=basic_time, \n",
    "                   n_data=n_data, \n",
    "                   time_propagation=time_propagation)\n",
    "node_data['X1']['data'].head()"
   ]
  },
  {
   "cell_type": "code",
   "execution_count": 6,
   "id": "67c4bb68-4d10-4e5f-87bc-0fcf17849ebf",
   "metadata": {},
   "outputs": [
    {
     "name": "stdout",
     "output_type": "stream",
     "text": [
      "1675703887.108593\n",
      "1675703888.108593\n"
     ]
    }
   ],
   "source": [
    "def generate_child_data(node, parents, node_data, n_data, time_propagation):\n",
    "    data = halfnorm.rvs(size=n_data, loc=0.5, scale=0.2).reshape(-1,1)\n",
    "    parent_start_ts = list()\n",
    "    \n",
    "    for parent in parents:\n",
    "        if parent in node_data.keys():\n",
    "            parent_start_ts.append(node_data[parent]['start_ts'])\n",
    "        else:\n",
    "            print(f'parent {parent} of node {node} has no data')\n",
    "            \n",
    "    start_ts = max(parent_start_ts) + time_propagation\n",
    "    ts = np.arange(start=start_ts, \n",
    "                   stop=start_ts + n_data * time_propagation, \n",
    "                   step=time_propagation).reshape(-1,1)\n",
    "    \n",
    "    for parent in parents:\n",
    "        if parent in node_data.keys():\n",
    "            data += node_data[parent]['data'][parent].values.reshape(-1,1)\n",
    "        else:\n",
    "            print(f'parent {parent} of node {node} has no data')\n",
    "    \n",
    "    data_ts = np.hstack((data, ts))\n",
    "    node_data[node] = {'data' : pd.DataFrame(data_ts, columns=(node, f'ts')), \n",
    "                       'start_ts' : start_ts}\n",
    "\n",
    "parents = node_parents['X2']\n",
    "generate_child_data('X2', parents, node_data, n_data, time_propagation)\n",
    "print(node_data['X1']['data']['ts'][0])\n",
    "print(node_data['X2']['data']['ts'][0])"
   ]
  },
  {
   "cell_type": "code",
   "execution_count": 7,
   "id": "5836a485-5425-484e-aa94-4457a73a7890",
   "metadata": {
    "tags": []
   },
   "outputs": [],
   "source": [
    "def generate_data(causal_graph, basic_time, n_data, time_propagation):\n",
    "    node_data = dict()\n",
    "    root, node_parents = find_root_children_nodes(causal_graph)\n",
    "    for node in causal_graph.nodes:\n",
    "        if node in root:\n",
    "            generate_root_data(node, node_data, basic_time, n_data, time_propagation)\n",
    "        else:\n",
    "            parents = node_parents[node]\n",
    "            generate_child_data(node, parents, node_data, n_data, time_propagation)\n",
    "    return node_data"
   ]
  },
  {
   "cell_type": "code",
   "execution_count": 8,
   "id": "5222ec4b-252c-4156-9133-2c1ca88bfbcd",
   "metadata": {
    "tags": []
   },
   "outputs": [
    {
     "name": "stdout",
     "output_type": "stream",
     "text": [
      "root node : X1\n",
      "child node X2 of parents ['X1']\n",
      "child node X3 of parents ['X2']\n",
      "child node X4 of parents ['X3']\n",
      "child node X5 of parents ['X4']\n"
     ]
    }
   ],
   "source": [
    "features = ('X1', 'X2', 'X3', 'X4', 'X5')\n",
    "causal_graph = nx.DiGraph([('X1', 'X2'), \n",
    "                          ('X2', 'X3'),\n",
    "                          ('X3', 'X4'),\n",
    "                          ('X4', 'X5')])\n",
    "time_propagation = 1 # in second\n",
    "basic_time = datetime.datetime.now().timestamp()\n",
    "n_data = 100\n",
    "node_data = generate_data(causal_graph, basic_time, n_data, time_propagation)"
   ]
  },
  {
   "cell_type": "code",
   "execution_count": 9,
   "id": "2e4c6817-a446-4d35-87d7-bba45e85d198",
   "metadata": {
    "tags": []
   },
   "outputs": [
    {
     "name": "stdout",
     "output_type": "stream",
     "text": [
      "1675703887.170319\n",
      "1675703888.170319\n",
      "1675703889.170319\n",
      "1675703890.170319\n",
      "1675703891.170319\n"
     ]
    }
   ],
   "source": [
    "print(node_data['X1']['data']['ts'][0])\n",
    "print(node_data['X2']['data']['ts'][0])\n",
    "print(node_data['X3']['data']['ts'][0])\n",
    "print(node_data['X4']['data']['ts'][0])\n",
    "print(node_data['X5']['data']['ts'][0])"
   ]
  },
  {
   "cell_type": "code",
   "execution_count": 10,
   "id": "21e31663-b439-435c-8263-f525c94eb6f5",
   "metadata": {},
   "outputs": [],
   "source": [
    "df = pd.merge(node_data['X1']['data'], node_data['X2']['data'], on='ts')"
   ]
  },
  {
   "cell_type": "code",
   "execution_count": 11,
   "id": "05d139a6-0ab5-4e30-bacb-454a613ab262",
   "metadata": {
    "tags": []
   },
   "outputs": [
    {
     "data": {
      "text/plain": [
       "(99, 3)"
      ]
     },
     "execution_count": 11,
     "metadata": {},
     "output_type": "execute_result"
    }
   ],
   "source": [
    "df.shape"
   ]
  },
  {
   "cell_type": "code",
   "execution_count": 12,
   "id": "24c2a8f2-eb47-42bc-8fc8-274bf7abd4ae",
   "metadata": {
    "tags": []
   },
   "outputs": [],
   "source": [
    "def merge_node_data(node_data, causal_graph):\n",
    "    first = True\n",
    "    for node in causal_graph.nodes:\n",
    "        if first:\n",
    "            df = node_data[node]['data']\n",
    "            first = False\n",
    "        else:\n",
    "            df = pd.merge(df, node_data[node]['data'], on='ts')\n",
    "    return df\n",
    "df = merge_node_data(node_data, causal_graph)"
   ]
  },
  {
   "cell_type": "code",
   "execution_count": 13,
   "id": "551a1732-68e3-4a9e-b638-ec398d0e7e12",
   "metadata": {
    "tags": []
   },
   "outputs": [
    {
     "data": {
      "text/plain": [
       "(96, 6)"
      ]
     },
     "execution_count": 13,
     "metadata": {},
     "output_type": "execute_result"
    }
   ],
   "source": [
    "df.shape"
   ]
  },
  {
   "cell_type": "code",
   "execution_count": 14,
   "id": "5e9b0efb-e858-4303-8b27-9cd268ae2d8a",
   "metadata": {
    "tags": []
   },
   "outputs": [
    {
     "data": {
      "text/plain": [
       "1675703891.170319"
      ]
     },
     "execution_count": 14,
     "metadata": {},
     "output_type": "execute_result"
    }
   ],
   "source": [
    "df.iloc[0]['ts']"
   ]
  },
  {
   "cell_type": "code",
   "execution_count": null,
   "id": "f20b2a70-0019-4c2a-9dac-226216ce0d8e",
   "metadata": {},
   "outputs": [],
   "source": []
  }
 ],
 "metadata": {
  "kernelspec": {
   "display_name": "Python 3 (ipykernel)",
   "language": "python",
   "name": "python3"
  },
  "language_info": {
   "codemirror_mode": {
    "name": "ipython",
    "version": 3
   },
   "file_extension": ".py",
   "mimetype": "text/x-python",
   "name": "python",
   "nbconvert_exporter": "python",
   "pygments_lexer": "ipython3",
   "version": "3.8.16"
  }
 },
 "nbformat": 4,
 "nbformat_minor": 5
}
