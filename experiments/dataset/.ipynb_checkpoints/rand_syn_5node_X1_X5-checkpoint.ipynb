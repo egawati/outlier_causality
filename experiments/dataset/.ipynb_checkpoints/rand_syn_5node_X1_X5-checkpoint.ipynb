{
 "cells": [
  {
   "cell_type": "code",
   "execution_count": 1,
   "id": "b3722d39-6e31-4987-822b-450f8c8ae8ca",
   "metadata": {
    "tags": []
   },
   "outputs": [],
   "source": [
    "import pandas as pd\n",
    "import numpy as np\n",
    "import networkx as nx\n",
    "import datetime\n",
    "import random\n",
    "\n",
    "import scipy.stats as stats\n",
    "from causal_gen.random_dist import  RandomCausalDataGeneratorTS\n",
    "from causal_gen.basic_ts_with_outlier import merge_node_data_with_outliers"
   ]
  },
  {
   "cell_type": "markdown",
   "id": "9b254244-59bf-4fd0-891a-87d7f58d1ed9",
   "metadata": {
    "tags": []
   },
   "source": [
    "## Generating Dataset for Online Simulation"
   ]
  },
  {
   "cell_type": "code",
   "execution_count": 2,
   "id": "3bb029a2-0f38-4b46-883c-008b719762bc",
   "metadata": {
    "tags": []
   },
   "outputs": [
    {
     "name": "stdout",
     "output_type": "stream",
     "text": [
      "self.sorted_nodes are ['X1', 'X3', 'X2', 'X4', 'X5']\n",
      "node X1 is a root cause\n",
      "Index(['X5', 'ts', 'X5_root_cause', 'label', 'root_cause_gt', 'X1',\n",
      "       'X1_root_cause', 'X2', 'X2_root_cause', 'X4', 'X4_root_cause', 'X3',\n",
      "       'X3_root_cause'],\n",
      "      dtype='object')\n",
      "(117, 13)\n"
     ]
    },
    {
     "data": {
      "text/plain": [
       "{'X1': 'expon', 'X3': 'expon', 'X2': 'beta', 'X4': 'norm', 'X5': 'norm'}"
      ]
     },
     "execution_count": 2,
     "metadata": {},
     "output_type": "execute_result"
    }
   ],
   "source": [
    "seed = 1300\n",
    "random.seed(seed)\n",
    "exp_name = f'rand_syn_5node_X1_X5_seed{seed}'\n",
    "n_data = 120\n",
    "root_cause = 'X1'\n",
    "target_node = 'X5'\n",
    "features = ('X1', 'X2', 'X3', 'X4', 'X5')\n",
    "causal_graph = nx.DiGraph([('X1', 'X2'), \n",
    "                          ('X2', 'X4'),\n",
    "                          ('X3', 'X4'),\n",
    "                          ('X4', 'X5')])\n",
    "\n",
    "basic_time = datetime.datetime.now().timestamp()\n",
    "time_propagation = 1.0\n",
    "outlier_fraction = 0.01\n",
    "n_outliers = int(outlier_fraction * n_data)\n",
    "n_outliers\n",
    "noise_dists = {\n",
    "                stats.norm: (),\n",
    "                stats.uniform: (),\n",
    "                stats.expon: (),\n",
    "                stats.beta: (random.uniform(0.5, 2.0), random.uniform(0.5, 2.0))\n",
    "              }\n",
    "outgen =  RandomCausalDataGeneratorTS(causal_graph, \n",
    "                                      noise_dists,\n",
    "                                      basic_time, \n",
    "                                      n_data, \n",
    "                                      time_propagation, \n",
    "                                      n_outliers, \n",
    "                                      outlier_root_cause_node=root_cause, \n",
    "                                      outlier_multiplier=3, \n",
    "                                      outlier_position=None,\n",
    "                                      seed=seed)\n",
    "\n",
    "node_data = outgen.generate_data_with_outliers()\n",
    "df = merge_node_data_with_outliers(node_data = node_data, \n",
    "                                  causal_graph = causal_graph, \n",
    "                                  target_node = target_node,\n",
    "                                  time_propagation = time_propagation)\n",
    "\n",
    "print(df.columns)\n",
    "print(df.shape)\n",
    "l_features = list(features)\n",
    "l_features.append('label')\n",
    "l_features.append('root_cause_gt')\n",
    "l_features.append('ts')\n",
    "df = df.loc[:, l_features]\n",
    "df.to_csv(f'{exp_name}.csv', index=False, sep=',')\n",
    "outgen.node_noise_dists"
   ]
  },
  {
   "cell_type": "code",
   "execution_count": 3,
   "id": "955c08ba-6cfd-41cb-acc4-2c3716d095dc",
   "metadata": {},
   "outputs": [],
   "source": [
    "## Generating Dataset for Init Data"
   ]
  },
  {
   "cell_type": "code",
   "execution_count": 4,
   "id": "23723d5d-e077-4b62-ad18-c559a17ecb36",
   "metadata": {
    "tags": []
   },
   "outputs": [
    {
     "name": "stdout",
     "output_type": "stream",
     "text": [
      "self.sorted_nodes are ['X1', 'X3', 'X2', 'X4', 'X5']\n"
     ]
    },
    {
     "data": {
      "text/plain": [
       "{'X1': 'expon', 'X3': 'expon', 'X2': 'beta', 'X4': 'norm', 'X5': 'norm'}"
      ]
     },
     "execution_count": 4,
     "metadata": {},
     "output_type": "execute_result"
    }
   ],
   "source": [
    "exp_name = f'init_rand_syn_5node_X1_X5_seed{seed}'\n",
    "n_data = 120\n",
    "root_cause = sorted_nodes[0]\n",
    "outgen =  RandomCausalDataGeneratorTS(causal_graph, \n",
    "                                      noise_dists,\n",
    "                                      basic_time, \n",
    "                                      n_data, \n",
    "                                      time_propagation, \n",
    "                                      n_outliers=0, \n",
    "                                      outlier_root_cause_node=root_cause, \n",
    "                                      outlier_multiplier=3, \n",
    "                                      outlier_position=None,\n",
    "                                      seed=seed)\n",
    "\n",
    "node_data = outgen.generate_data_with_outliers()\n",
    "df = merge_node_data_with_outliers(node_data = node_data, \n",
    "                                  causal_graph = causal_graph, \n",
    "                                  target_node = target_node,\n",
    "                                  time_propagation = time_propagation)\n",
    "l_features = list(features)\n",
    "l_features.append('label')\n",
    "l_features.append('root_cause_gt')\n",
    "df = df.loc[:, l_features]\n",
    "df.to_csv(f'{exp_name}.csv', index=False, sep=',')\n",
    "outgen.node_noise_dists"
   ]
  }
 ],
 "metadata": {
  "kernelspec": {
   "display_name": "Python 3 (ipykernel)",
   "language": "python",
   "name": "python3"
  },
  "language_info": {
   "codemirror_mode": {
    "name": "ipython",
    "version": 3
   },
   "file_extension": ".py",
   "mimetype": "text/x-python",
   "name": "python",
   "nbconvert_exporter": "python",
   "pygments_lexer": "ipython3",
   "version": "3.8.16"
  }
 },
 "nbformat": 4,
 "nbformat_minor": 5
}
