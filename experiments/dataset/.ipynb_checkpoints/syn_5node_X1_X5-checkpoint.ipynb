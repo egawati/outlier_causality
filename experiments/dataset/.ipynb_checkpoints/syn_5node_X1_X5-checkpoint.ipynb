{
 "cells": [
  {
   "cell_type": "code",
   "execution_count": 1,
   "id": "b3722d39-6e31-4987-822b-450f8c8ae8ca",
   "metadata": {
    "tags": []
   },
   "outputs": [],
   "source": [
    "import pandas as pd\n",
    "import numpy as np\n",
    "import networkx as nx\n",
    "import datetime\n",
    "\n",
    "from causal_gen.basic_ts_with_outlier import generate_data_with_outliers\n",
    "from causal_gen.basic_ts_with_outlier import merge_node_data_with_outliers"
   ]
  },
  {
   "cell_type": "code",
   "execution_count": 2,
   "id": "3bb029a2-0f38-4b46-883c-008b719762bc",
   "metadata": {
    "tags": []
   },
   "outputs": [
    {
     "data": {
      "text/plain": [
       "28"
      ]
     },
     "execution_count": 2,
     "metadata": {},
     "output_type": "execute_result"
    }
   ],
   "source": [
    "exp_name = 'syn_5node_X1_X5_big'\n",
    "features = ('X1', 'X2', 'X3', 'X4')\n",
    "causal_graph = nx.DiGraph([('X1', 'X2'), \n",
    "                          ('X2', 'X3'),\n",
    "                          ('X3', 'X4')])\n",
    "n_data = 1440\n",
    "basic_time = datetime.datetime.now().timestamp()\n",
    "time_propagation = 1.0\n",
    "outlier_fraction = 0.02\n",
    "n_outliers = int(outlier_fraction * n_data)\n",
    "n_outliers"
   ]
  },
  {
   "cell_type": "code",
   "execution_count": 3,
   "id": "acf07f8e-c0e4-4917-b22a-fa92a81de7ba",
   "metadata": {
    "tags": []
   },
   "outputs": [
    {
     "name": "stdout",
     "output_type": "stream",
     "text": [
      "init_start_ts 1688347858.309451\n",
      "time_propagation 1.0\n"
     ]
    }
   ],
   "source": [
    "node_data = generate_data_with_outliers(causal_graph=causal_graph, \n",
    "                                        basic_time=basic_time, \n",
    "                                        n_data=n_data, \n",
    "                                        time_propagation=time_propagation, \n",
    "                                        n_outliers=n_outliers, \n",
    "                                        outlier_root_cause_node='X1',\n",
    "                                        outlier_multiplier=3)\n",
    "df = merge_node_data_with_outliers(node_data = node_data, \n",
    "                                  causal_graph = causal_graph, \n",
    "                                  target_node = 'X4',\n",
    "                                  time_propagation = time_propagation)\n"
   ]
  },
  {
   "cell_type": "code",
   "execution_count": 4,
   "id": "fbd57ac5-a7d1-4deb-92c3-e55ef9d49e98",
   "metadata": {
    "tags": []
   },
   "outputs": [],
   "source": [
    "l_features = list(features)\n",
    "# l_features.append('label')\n",
    "# l_features.append('root_cause_gt')\n",
    "l_features.append('ts')\n",
    "df = df.loc[:, l_features]\n",
    "df['ts'] = pd.to_datetime(df['ts'], unit='s').astype('datetime64[s]')"
   ]
  },
  {
   "cell_type": "code",
   "execution_count": 8,
   "id": "50e601af-811d-495a-b019-5fe8b9e01cc4",
   "metadata": {
    "tags": []
   },
   "outputs": [
    {
     "data": {
      "text/html": [
       "<div>\n",
       "<style scoped>\n",
       "    .dataframe tbody tr th:only-of-type {\n",
       "        vertical-align: middle;\n",
       "    }\n",
       "\n",
       "    .dataframe tbody tr th {\n",
       "        vertical-align: top;\n",
       "    }\n",
       "\n",
       "    .dataframe thead th {\n",
       "        text-align: right;\n",
       "    }\n",
       "</style>\n",
       "<table border=\"1\" class=\"dataframe\">\n",
       "  <thead>\n",
       "    <tr style=\"text-align: right;\">\n",
       "      <th></th>\n",
       "      <th>X1</th>\n",
       "      <th>X2</th>\n",
       "      <th>X3</th>\n",
       "      <th>X4</th>\n",
       "      <th>ts</th>\n",
       "    </tr>\n",
       "  </thead>\n",
       "  <tbody>\n",
       "    <tr>\n",
       "      <th>1337</th>\n",
       "      <td>0.050978</td>\n",
       "      <td>0.587664</td>\n",
       "      <td>1.575679</td>\n",
       "      <td>2.567377</td>\n",
       "      <td>2023-07-03 01:53:18.309451008</td>\n",
       "    </tr>\n",
       "    <tr>\n",
       "      <th>1338</th>\n",
       "      <td>0.235625</td>\n",
       "      <td>0.623682</td>\n",
       "      <td>1.287055</td>\n",
       "      <td>2.147016</td>\n",
       "      <td>2023-07-03 01:53:19.309451008</td>\n",
       "    </tr>\n",
       "    <tr>\n",
       "      <th>1339</th>\n",
       "      <td>0.269734</td>\n",
       "      <td>0.859026</td>\n",
       "      <td>1.514743</td>\n",
       "      <td>1.830673</td>\n",
       "      <td>2023-07-03 01:53:20.309451008</td>\n",
       "    </tr>\n",
       "    <tr>\n",
       "      <th>1340</th>\n",
       "      <td>0.288818</td>\n",
       "      <td>1.106894</td>\n",
       "      <td>1.413272</td>\n",
       "      <td>2.060899</td>\n",
       "      <td>2023-07-03 01:53:21.309451008</td>\n",
       "    </tr>\n",
       "    <tr>\n",
       "      <th>1341</th>\n",
       "      <td>0.081046</td>\n",
       "      <td>1.004907</td>\n",
       "      <td>1.672681</td>\n",
       "      <td>1.954101</td>\n",
       "      <td>2023-07-03 01:53:22.309451008</td>\n",
       "    </tr>\n",
       "    <tr>\n",
       "      <th>...</th>\n",
       "      <td>...</td>\n",
       "      <td>...</td>\n",
       "      <td>...</td>\n",
       "      <td>...</td>\n",
       "      <td>...</td>\n",
       "    </tr>\n",
       "    <tr>\n",
       "      <th>1432</th>\n",
       "      <td>0.404393</td>\n",
       "      <td>0.787882</td>\n",
       "      <td>1.368957</td>\n",
       "      <td>1.827958</td>\n",
       "      <td>2023-07-03 01:54:53.309451008</td>\n",
       "    </tr>\n",
       "    <tr>\n",
       "      <th>1433</th>\n",
       "      <td>0.223397</td>\n",
       "      <td>1.240740</td>\n",
       "      <td>1.431444</td>\n",
       "      <td>2.111232</td>\n",
       "      <td>2023-07-03 01:54:54.309451008</td>\n",
       "    </tr>\n",
       "    <tr>\n",
       "      <th>1434</th>\n",
       "      <td>0.074855</td>\n",
       "      <td>0.894734</td>\n",
       "      <td>1.979392</td>\n",
       "      <td>2.052022</td>\n",
       "      <td>2023-07-03 01:54:55.309451008</td>\n",
       "    </tr>\n",
       "    <tr>\n",
       "      <th>1435</th>\n",
       "      <td>0.269313</td>\n",
       "      <td>0.854545</td>\n",
       "      <td>1.460267</td>\n",
       "      <td>2.542976</td>\n",
       "      <td>2023-07-03 01:54:56.309451008</td>\n",
       "    </tr>\n",
       "    <tr>\n",
       "      <th>1436</th>\n",
       "      <td>0.040885</td>\n",
       "      <td>0.937483</td>\n",
       "      <td>1.631752</td>\n",
       "      <td>2.121620</td>\n",
       "      <td>2023-07-03 01:54:57.309451008</td>\n",
       "    </tr>\n",
       "  </tbody>\n",
       "</table>\n",
       "<p>100 rows × 5 columns</p>\n",
       "</div>"
      ],
      "text/plain": [
       "            X1        X2        X3        X4                            ts\n",
       "1337  0.050978  0.587664  1.575679  2.567377 2023-07-03 01:53:18.309451008\n",
       "1338  0.235625  0.623682  1.287055  2.147016 2023-07-03 01:53:19.309451008\n",
       "1339  0.269734  0.859026  1.514743  1.830673 2023-07-03 01:53:20.309451008\n",
       "1340  0.288818  1.106894  1.413272  2.060899 2023-07-03 01:53:21.309451008\n",
       "1341  0.081046  1.004907  1.672681  1.954101 2023-07-03 01:53:22.309451008\n",
       "...        ...       ...       ...       ...                           ...\n",
       "1432  0.404393  0.787882  1.368957  1.827958 2023-07-03 01:54:53.309451008\n",
       "1433  0.223397  1.240740  1.431444  2.111232 2023-07-03 01:54:54.309451008\n",
       "1434  0.074855  0.894734  1.979392  2.052022 2023-07-03 01:54:55.309451008\n",
       "1435  0.269313  0.854545  1.460267  2.542976 2023-07-03 01:54:56.309451008\n",
       "1436  0.040885  0.937483  1.631752  2.121620 2023-07-03 01:54:57.309451008\n",
       "\n",
       "[100 rows x 5 columns]"
      ]
     },
     "execution_count": 8,
     "metadata": {},
     "output_type": "execute_result"
    }
   ],
   "source": [
    "df.tail(100)"
   ]
  },
  {
   "cell_type": "code",
   "execution_count": 6,
   "id": "11650a34-0785-4a3e-88a0-32bb1aa4388d",
   "metadata": {},
   "outputs": [],
   "source": [
    "# l_features = list(features)\n",
    "# l_features.append('label')\n",
    "# l_features.append('root_cause_gt')\n",
    "# df = df.loc[:, l_features]\n",
    "# df.to_csv(f'{exp_name}.csv', index=False, sep=',')"
   ]
  }
 ],
 "metadata": {
  "kernelspec": {
   "display_name": "Python 3 (ipykernel)",
   "language": "python",
   "name": "python3"
  },
  "language_info": {
   "codemirror_mode": {
    "name": "ipython",
    "version": 3
   },
   "file_extension": ".py",
   "mimetype": "text/x-python",
   "name": "python",
   "nbconvert_exporter": "python",
   "pygments_lexer": "ipython3",
   "version": "3.8.16"
  }
 },
 "nbformat": 4,
 "nbformat_minor": 5
}
