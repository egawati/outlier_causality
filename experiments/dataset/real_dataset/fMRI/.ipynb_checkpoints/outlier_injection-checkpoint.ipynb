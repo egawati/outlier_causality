{
 "cells": [
  {
   "cell_type": "code",
   "execution_count": 1,
   "id": "beb4d8ee-3399-487d-a9aa-41a483a0790f",
   "metadata": {
    "tags": []
   },
   "outputs": [],
   "source": [
    "import os\n",
    "import sys\n",
    "import json\n",
    "import random\n",
    "import pandas as pd\n",
    "import networkx as nx\n",
    "import matplotlib.pyplot as plt\n",
    "\n",
    "from causal_gen.outlier_injection import inject_n_outliers"
   ]
  },
  {
   "cell_type": "code",
   "execution_count": 2,
   "id": "c265ede0-ee1d-4c65-b381-97a4d6a4d251",
   "metadata": {},
   "outputs": [],
   "source": [
    "def get_dag_edges(adjacency_rep, \n",
    "                  child_col_index = 0, \n",
    "                  parent_col_index = 1,\n",
    "                  self_causality = False):\n",
    "    vertices = sorted(adjacency_rep.iloc[:, 0].unique())\n",
    "    vertex_map = {f'{vertex}' : f'X{vertex}' for vertex in vertices}\n",
    "    edges = list()\n",
    "    for i in range(adjacency_rep.shape[0]):\n",
    "        child = adjacency_rep.iloc[i,child_col_index]\n",
    "        parent = adjacency_rep.iloc[i,parent_col_index]\n",
    "        #print(f'at index {i} {parent} -> {child}')\n",
    "        if not self_causality and child == parent :\n",
    "            continue\n",
    "        edges.append((vertex_map[str(parent)], vertex_map[str(child)]))\n",
    "    return vertex_map, edges"
   ]
  },
  {
   "cell_type": "markdown",
   "id": "9b5d3f85-e225-4459-9a79-bd64f9f73f70",
   "metadata": {
    "tags": []
   },
   "source": [
    "## Populate causal graph metadata"
   ]
  },
  {
   "cell_type": "code",
   "execution_count": 3,
   "id": "eb205ed2-c817-494b-9b62-1faf1c523c15",
   "metadata": {
    "tags": []
   },
   "outputs": [],
   "source": [
    "ori_folder = 'fMRI_from_TCDF'\n",
    "datasets = [i for i in range(1, 29)]\n",
    "metadata = {}\n",
    "## note timeseries 4 has 50 vertices\n",
    "for dataset in datasets:\n",
    "    adjacency_rep = pd.read_csv(f'{ori_folder}/sim{dataset}_gt_processed.csv', header=None)\n",
    "    vertex_map, edges = get_dag_edges(adjacency_rep,\n",
    "                      child_col_index = 0, \n",
    "                      parent_col_index = 1, \n",
    "                      self_causality = False)\n",
    "    metadata[f'timeseries{dataset}'] = {'vertex_map':vertex_map,\n",
    "                                        'edges':edges}\n"
   ]
  },
  {
   "cell_type": "markdown",
   "id": "0e1e4f8d-8135-4c17-aa86-8257e69b3d8b",
   "metadata": {
    "tags": []
   },
   "source": [
    "## Inject outliers into datasets"
   ]
  },
  {
   "cell_type": "code",
   "execution_count": 4,
   "id": "8d093635-6946-4dbf-91a0-045a5a278534",
   "metadata": {
    "tags": []
   },
   "outputs": [
    {
     "name": "stdout",
     "output_type": "stream",
     "text": [
      "dataset 1 \n",
      "(21, 35, 39, 70, 131, 150)\n",
      "['X2', 'X2', 'X1', 'X2', 'X1', 'X2']\n",
      "dataset 2 \n",
      "(24, 31, 33, 53, 102, 198)\n",
      "['X7', 'X2', 'X2', 'X8', 'X7', 'X8']\n",
      "dataset 3 \n",
      "(48, 75, 109, 154, 166, 169)\n",
      "['X12', 'X1', 'X12', 'X2', 'X12', 'X13']\n",
      "dataset 4 \n",
      "(76, 89, 110, 127, 151, 172)\n",
      "['X2', 'X47', 'X37', 'X1', 'X42', 'X27']\n",
      "dataset 5 \n",
      "(8, 15, 31, 64, 111, 152, 213, 236, 264, 275, 289, 326, 331, 344, 345, 377, 433, 446, 448, 509, 515, 528, 577, 597, 647, 739, 766, 784, 802, 840, 916, 958, 965, 1090, 1118, 1180)\n",
      "['X1', 'X3', 'X1', 'X3', 'X2', 'X2', 'X1', 'X2', 'X3', 'X3', 'X2', 'X2', 'X2', 'X1', 'X3', 'X2', 'X1', 'X2', 'X1', 'X2', 'X3', 'X2', 'X1', 'X1', 'X1', 'X2', 'X2', 'X2', 'X1', 'X2', 'X1', 'X1', 'X3', 'X1', 'X3', 'X2']\n",
      "dataset 6 \n",
      "(10, 54, 85, 103, 175, 190, 200, 202, 209, 308, 405, 413, 415, 421, 522, 545, 553, 568, 606, 664, 697, 748, 751, 774, 849, 857, 879, 921, 973, 1003, 1011, 1112, 1114, 1143, 1163, 1185)\n",
      "['X8', 'X2', 'X1', 'X2', 'X7', 'X1', 'X2', 'X7', 'X2', 'X2', 'X2', 'X1', 'X2', 'X7', 'X7', 'X8', 'X8', 'X8', 'X8', 'X8', 'X1', 'X8', 'X8', 'X8', 'X8', 'X2', 'X7', 'X2', 'X1', 'X7', 'X8', 'X7', 'X8', 'X7', 'X8', 'X8']\n",
      "dataset 7 \n",
      "(38, 103, 189, 312, 326, 386, 400, 411, 480, 487, 489, 493, 502, 511, 519, 537, 568, 577, 598, 604, 640, 665, 675, 684, 709, 748, 771, 776, 803, 849, 964, 969, 972, 1019, 1064, 1095, 1126, 1186, 1198, 1240, 1241, 1244, 1250, 1356, 1367, 1381, 1448, 1477, 1485, 1498, 1544, 1692, 1763, 1792, 1816, 1833, 1895, 1905, 1916, 1976, 2004, 2033, 2040, 2157, 2216, 2281, 2285, 2314, 2336, 2359, 2363, 2377, 2460, 2464, 2532, 2541, 2575, 2578, 2657, 2791, 2807, 2818, 2847, 2873, 2916, 2944, 2967, 3000, 3055, 3121, 3165, 3207, 3239, 3254, 3264, 3295, 3407, 3430, 3437, 3438, 3459, 3482, 3507, 3531, 3557, 3655, 3681, 3684, 3717, 3742, 3787, 3819, 3888, 3977, 4010, 4049, 4060, 4071, 4072, 4073, 4161, 4198, 4307, 4360, 4384, 4394, 4434, 4492, 4506, 4512, 4519, 4565, 4576, 4594, 4628, 4637, 4681, 4684, 4699, 4710, 4732, 4739, 4755, 4769, 4779, 4780, 4801, 4831, 4874, 4993)\n",
      "['X2', 'X2', 'X3', 'X3', 'X3', 'X3', 'X2', 'X2', 'X3', 'X1', 'X1', 'X1', 'X1', 'X3', 'X1', 'X3', 'X1', 'X1', 'X2', 'X2', 'X2', 'X2', 'X2', 'X1', 'X3', 'X3', 'X1', 'X3', 'X3', 'X1', 'X2', 'X1', 'X2', 'X1', 'X1', 'X3', 'X1', 'X1', 'X2', 'X1', 'X2', 'X1', 'X2', 'X1', 'X2', 'X3', 'X2', 'X1', 'X1', 'X2', 'X3', 'X2', 'X2', 'X1', 'X1', 'X3', 'X2', 'X2', 'X2', 'X3', 'X2', 'X1', 'X1', 'X1', 'X2', 'X1', 'X3', 'X3', 'X1', 'X1', 'X3', 'X3', 'X1', 'X1', 'X1', 'X1', 'X1', 'X2', 'X2', 'X1', 'X2', 'X3', 'X3', 'X3', 'X1', 'X1', 'X1', 'X1', 'X2', 'X1', 'X2', 'X3', 'X1', 'X1', 'X2', 'X1', 'X3', 'X1', 'X3', 'X3', 'X3', 'X3', 'X2', 'X1', 'X2', 'X1', 'X1', 'X2', 'X1', 'X2', 'X3', 'X1', 'X1', 'X3', 'X1', 'X1', 'X1', 'X1', 'X2', 'X3', 'X1', 'X3', 'X2', 'X2', 'X2', 'X3', 'X3', 'X2', 'X2', 'X1', 'X1', 'X1', 'X2', 'X1', 'X1', 'X3', 'X2', 'X3', 'X3', 'X2', 'X1', 'X1', 'X1', 'X1', 'X2', 'X1', 'X1', 'X2', 'X2', 'X2']\n",
      "dataset 8 \n",
      "(37, 54, 63, 99, 101, 185)\n",
      "['X1', 'X1', 'X3', 'X3', 'X2', 'X2']\n",
      "dataset 9 \n",
      "(10, 36, 48, 57, 72, 102, 148, 155, 197, 213, 245, 285, 340, 342, 357, 358, 418, 425, 448, 453, 456, 523, 547, 568, 667, 689, 699, 715, 723, 732, 770, 789, 837, 849, 905, 913, 920, 922, 990, 998, 1089, 1096, 1139, 1144, 1195, 1220, 1228, 1292, 1329, 1350, 1384, 1392, 1406, 1418, 1420, 1529, 1579, 1624, 1628, 1633, 1639, 1668, 1684, 1724, 1725, 1753, 1821, 1842, 1896, 1944, 1954, 2038, 2126, 2159, 2190, 2193, 2203, 2213, 2216, 2308, 2338, 2383, 2390, 2521, 2665, 2697, 2710, 2741, 2776, 2803, 2840, 2849, 2999, 3002, 3030, 3060, 3063, 3108, 3109, 3129, 3147, 3253, 3266, 3289, 3299, 3301, 3373, 3446, 3460, 3466, 3484, 3486, 3516, 3556, 3642, 3702, 3707, 3797, 3803, 4033, 4074, 4079, 4107, 4123, 4141, 4152, 4181, 4244, 4281, 4408, 4426, 4545, 4552, 4596, 4635, 4641, 4698, 4710, 4717, 4745, 4754, 4790, 4840, 4841, 4894, 4958, 4972, 4973, 4983, 4993)\n",
      "['X1', 'X1', 'X2', 'X2', 'X2', 'X1', 'X3', 'X3', 'X2', 'X3', 'X2', 'X1', 'X2', 'X3', 'X1', 'X2', 'X1', 'X1', 'X1', 'X1', 'X2', 'X3', 'X1', 'X3', 'X3', 'X3', 'X3', 'X3', 'X3', 'X1', 'X3', 'X2', 'X1', 'X1', 'X2', 'X2', 'X3', 'X3', 'X1', 'X1', 'X3', 'X2', 'X1', 'X1', 'X3', 'X3', 'X1', 'X1', 'X1', 'X2', 'X2', 'X1', 'X2', 'X2', 'X2', 'X1', 'X2', 'X2', 'X1', 'X1', 'X1', 'X3', 'X2', 'X1', 'X3', 'X3', 'X1', 'X3', 'X1', 'X3', 'X1', 'X2', 'X2', 'X2', 'X1', 'X3', 'X2', 'X1', 'X2', 'X2', 'X1', 'X2', 'X3', 'X3', 'X2', 'X1', 'X2', 'X3', 'X2', 'X2', 'X1', 'X3', 'X1', 'X3', 'X3', 'X2', 'X3', 'X3', 'X1', 'X2', 'X3', 'X2', 'X3', 'X3', 'X2', 'X2', 'X1', 'X1', 'X2', 'X1', 'X3', 'X2', 'X2', 'X3', 'X1', 'X2', 'X2', 'X2', 'X3', 'X1', 'X1', 'X1', 'X3', 'X3', 'X1', 'X1', 'X2', 'X1', 'X1', 'X2', 'X1', 'X2', 'X1', 'X3', 'X2', 'X1', 'X1', 'X1', 'X3', 'X1', 'X1', 'X3', 'X2', 'X2', 'X2', 'X1', 'X1', 'X1', 'X2', 'X2']\n",
      "dataset 10 \n",
      "(8, 13, 114, 128, 151, 152)\n",
      "['X1', 'X2', 'X3', 'X1', 'X2', 'X3']\n",
      "dataset 11 \n",
      "(58, 125, 129, 140, 153, 160)\n",
      "['X2', 'X8', 'X2', 'X7', 'X1', 'X8']\n",
      "dataset 12 \n",
      "(78, 99, 131, 145, 178, 180)\n",
      "['X2', 'X7', 'X8', 'X2', 'X2', 'X7']\n",
      "dataset 15 \n",
      "(7, 14, 45, 58, 138, 193)\n",
      "['X1', 'X3', 'X3', 'X1', 'X2', 'X2']\n",
      "dataset 16 \n",
      "(63, 77, 97, 111, 125, 128)\n",
      "['X2', 'X3', 'X1', 'X1', 'X2', 'X3']\n",
      "dataset 17 \n",
      "(54, 84, 87, 103, 116, 143)\n",
      "['X7', 'X1', 'X8', 'X7', 'X8', 'X1']\n",
      "dataset 18 \n",
      "(36, 51, 66, 90, 119, 174)\n",
      "['X1', 'X3', 'X2', 'X2', 'X3', 'X3']\n",
      "dataset 19 \n",
      "(16, 33, 73, 98, 111, 182, 294, 306, 379, 408, 411, 433, 445, 446, 471, 495, 499, 556, 572, 612, 654, 756, 789, 822, 830, 834, 854, 958, 1008, 1071, 1074, 1102, 1190, 1229, 1279, 1338, 1345, 1427, 1516, 1596, 1603, 1616, 1627, 1669, 1692, 1702, 1738, 1759, 1808, 1866, 1871, 1881, 1913, 1970, 1971, 2025, 2028, 2053, 2062, 2100, 2135, 2136, 2172, 2224, 2226, 2238, 2246, 2336, 2342, 2366, 2376, 2399)\n",
      "['X2', 'X3', 'X2', 'X2', 'X2', 'X1', 'X2', 'X1', 'X2', 'X2', 'X1', 'X2', 'X1', 'X3', 'X1', 'X2', 'X2', 'X1', 'X3', 'X2', 'X3', 'X2', 'X2', 'X1', 'X3', 'X2', 'X3', 'X1', 'X3', 'X1', 'X3', 'X3', 'X2', 'X2', 'X3', 'X2', 'X3', 'X3', 'X2', 'X1', 'X1', 'X2', 'X1', 'X1', 'X2', 'X3', 'X2', 'X2', 'X1', 'X3', 'X2', 'X2', 'X2', 'X3', 'X1', 'X2', 'X1', 'X1', 'X3', 'X1', 'X3', 'X1', 'X1', 'X1', 'X1', 'X3', 'X2', 'X1', 'X3', 'X1', 'X2', 'X2']\n",
      "dataset 20 \n",
      "(58, 100, 115, 148, 217, 234, 312, 338, 348, 384, 392, 420, 427, 481, 487, 500, 517, 565, 624, 631, 646, 674, 679, 698, 784, 797, 823, 831, 850, 859, 904, 922, 963, 978, 998, 1043, 1056, 1069, 1100, 1126, 1149, 1166, 1236, 1254, 1303, 1312, 1346, 1351, 1379, 1380, 1417, 1663, 1667, 1671, 1690, 1692, 1755, 1760, 1778, 1792, 1837, 1845, 1948, 2020, 2126, 2132, 2281, 2351, 2352, 2355, 2382, 2383)\n",
      "['X1', 'X1', 'X2', 'X3', 'X3', 'X2', 'X3', 'X3', 'X2', 'X1', 'X3', 'X2', 'X1', 'X2', 'X1', 'X3', 'X1', 'X3', 'X1', 'X1', 'X1', 'X1', 'X1', 'X1', 'X1', 'X2', 'X1', 'X3', 'X1', 'X2', 'X3', 'X3', 'X1', 'X2', 'X2', 'X2', 'X1', 'X1', 'X1', 'X3', 'X3', 'X2', 'X1', 'X3', 'X1', 'X1', 'X1', 'X2', 'X1', 'X2', 'X2', 'X3', 'X3', 'X3', 'X2', 'X2', 'X2', 'X1', 'X2', 'X3', 'X1', 'X3', 'X1', 'X2', 'X1', 'X3', 'X3', 'X3', 'X1', 'X2', 'X2', 'X3']\n",
      "dataset 21 \n",
      "(47, 77, 112, 127, 167, 181)\n",
      "['X1', 'X2', 'X3', 'X3', 'X1', 'X3']\n",
      "dataset 22 \n",
      "(11, 40, 52, 67, 119, 161)\n",
      "['X3', 'X3', 'X1', 'X1', 'X3', 'X3']\n",
      "dataset 23 \n",
      "(9, 26, 79, 83, 113, 156)\n",
      "['X2', 'X1', 'X2', 'X1', 'X1', 'X3']\n",
      "dataset 24 \n",
      "(47, 51, 60, 103, 154, 187)\n",
      "['X1', 'X3', 'X1', 'X2', 'X1', 'X3']\n",
      "dataset 25 \n",
      "(6, 32, 53)\n",
      "['X2', 'X1', 'X2']\n",
      "dataset 26 \n",
      "(17,)\n",
      "['X3']\n",
      "dataset 27 \n",
      "(46,)\n",
      "['X2']\n",
      "dataset 28 \n",
      "(19, 21, 74)\n",
      "['X3', 'X1', 'X2']\n"
     ]
    }
   ],
   "source": [
    "dest_folder = 'fMRI_with_outliers'\n",
    "cwd = os.getcwd()\n",
    "dest_folder = os.path.join(cwd, dest_folder)\n",
    "\n",
    "if not os.path.exists(dest_folder):\n",
    "    os.makedirs(dest_folder)\n",
    "\n",
    "set_1 = (1, 5, 7, 8, 9, \n",
    "         10, 15, 18, 19, \n",
    "         20, 21, 22, 23, \n",
    "         24, 25, 26, 27, 28)\n",
    "set_2 = (2, 6, 11, 12, 17)\n",
    "set_3 = (3,)\n",
    "set_4 = (4,)\n",
    "set_5 = (13,)\n",
    "set_6 = (16,)\n",
    "outlier_percentage = 0.03\n",
    "for dataset in datasets:\n",
    "    ## we do not inject outliers to timeseries 13 and 14 because they do not have root (all vertices have parents)\n",
    "    random.seed(dataset)\n",
    "    if dataset == 13 or dataset==14:\n",
    "        continue\n",
    "        \n",
    "    filename = f'timeseries{dataset}.csv'\n",
    "    df = pd.read_csv(f'{ori_folder}/{filename}')\n",
    "\n",
    "    vertex_map = metadata[f'timeseries{dataset}']['vertex_map']\n",
    "    edges = metadata[f'timeseries{dataset}']['edges']\n",
    "    \n",
    "    df.rename(columns=vertex_map, inplace=True)\n",
    "    \n",
    "    G = nx.DiGraph()\n",
    "    G.add_nodes_from(list(vertex_map.values()))\n",
    "    G.add_edges_from(edges)\n",
    "    \n",
    "    target_node = 'X4'\n",
    "    using_root = True\n",
    "    if dataset in set_2:\n",
    "        target_node = 'X9'\n",
    "    elif dataset == 3:\n",
    "        target_node = 'X14'\n",
    "    elif dataset == 4:\n",
    "        target_node = 'X49'\n",
    "    \n",
    "    target_outlier_positions, root_causes = inject_n_outliers(df,\n",
    "                                                  causal_graph = G,\n",
    "                                                  target_node= target_node,\n",
    "                                                  n_outliers=outlier_percentage,\n",
    "                                                  multiplier = 5,\n",
    "                                                  lag = 1,\n",
    "                                                  using_root=using_root)\n",
    "    print(f'dataset {dataset} \\n{target_outlier_positions}\\n{root_causes}')\n",
    "    metadata[f'timeseries{dataset}']['target_node'] = target_node\n",
    "    metadata[f'timeseries{dataset}']['target_outlier_positions'] = target_outlier_positions\n",
    "    metadata[f'timeseries{dataset}']['root_causes'] = root_causes\n",
    "    \n",
    "    filepath = f'{dest_folder}/{filename}'\n",
    "    df.to_csv(filepath, sep=',', index=False)\n",
    "\n",
    "metadata_filepath = f'{dest_folder}/metadata.json'\n",
    "with open(metadata_filepath, \"w\") as outfile:\n",
    "    json.dump(metadata, outfile, indent = 4)"
   ]
  },
  {
   "cell_type": "code",
   "execution_count": 5,
   "id": "b09cd789-1cd8-45a6-a955-2df56550a965",
   "metadata": {
    "tags": []
   },
   "outputs": [
    {
     "name": "stdout",
     "output_type": "stream",
     "text": [
      "All possible paths: [[1, 2, 4, 5, 6], [1, 3, 4, 5, 6]]\n"
     ]
    }
   ],
   "source": [
    "import networkx as nx\n",
    "\n",
    "# Create a directed acyclic graph (DAG)\n",
    "G = nx.DiGraph()\n",
    "\n",
    "# Add nodes\n",
    "G.add_nodes_from([1, 2, 3, 4, 5, 6])\n",
    "\n",
    "# Add edges\n",
    "G.add_edges_from([(1, 2), (1, 3), (2, 4), (3, 4), (4, 5), (5, 6)])\n",
    "\n",
    "# Define the source and target nodes\n",
    "source_node = 1\n",
    "target_node = 6\n",
    "\n",
    "# Find all possible paths from the source node to the target node\n",
    "all_paths = list(nx.all_simple_paths(G, source=source_node, target=target_node))\n",
    "\n",
    "print(\"All possible paths:\", all_paths)\n"
   ]
  },
  {
   "cell_type": "code",
   "execution_count": null,
   "id": "01bfc4ce-5d22-4003-a106-93a5d091b964",
   "metadata": {},
   "outputs": [],
   "source": []
  }
 ],
 "metadata": {
  "kernelspec": {
   "display_name": "Python 3 (ipykernel)",
   "language": "python",
   "name": "python3"
  },
  "language_info": {
   "codemirror_mode": {
    "name": "ipython",
    "version": 3
   },
   "file_extension": ".py",
   "mimetype": "text/x-python",
   "name": "python",
   "nbconvert_exporter": "python",
   "pygments_lexer": "ipython3",
   "version": "3.8.16"
  }
 },
 "nbformat": 4,
 "nbformat_minor": 5
}
