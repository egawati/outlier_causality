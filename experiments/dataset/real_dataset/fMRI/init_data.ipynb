{
 "cells": [
  {
   "cell_type": "code",
   "execution_count": 1,
   "id": "67d7a8aa-812d-4b99-981b-ad9c9e6b3ab7",
   "metadata": {
    "tags": []
   },
   "outputs": [],
   "source": [
    "import os\n",
    "import sys\n",
    "import json\n",
    "import random\n",
    "import pandas as pd\n",
    "import networkx as nx\n",
    "import matplotlib.pyplot as plt"
   ]
  },
  {
   "cell_type": "code",
   "execution_count": 2,
   "id": "a910a23f-b5b7-46b1-b5af-bf25bfeb8fe2",
   "metadata": {
    "tags": []
   },
   "outputs": [
    {
     "name": "stdout",
     "output_type": "stream",
     "text": [
      "df.shape (200, 5)\n",
      "df.shape (200, 10)\n",
      "df.shape (200, 15)\n",
      "df.shape (200, 50)\n",
      "df.shape (300, 5)\n",
      "df.shape (300, 10)\n",
      "df.shape (300, 5)\n",
      "df.shape (200, 5)\n",
      "df.shape (300, 5)\n",
      "df.shape (200, 5)\n",
      "df.shape (200, 10)\n",
      "df.shape (200, 10)\n",
      "df.shape (200, 5)\n",
      "df.shape (200, 5)\n",
      "df.shape (200, 5)\n",
      "df.shape (200, 5)\n",
      "df.shape (200, 10)\n",
      "df.shape (200, 5)\n",
      "df.shape (300, 5)\n",
      "df.shape (300, 5)\n",
      "df.shape (200, 5)\n",
      "df.shape (200, 5)\n",
      "df.shape (200, 5)\n",
      "df.shape (200, 5)\n",
      "df.shape (100, 5)\n",
      "df.shape (50, 5)\n",
      "df.shape (50, 5)\n",
      "df.shape (100, 5)\n"
     ]
    }
   ],
   "source": [
    "ori_folder = 'fMRI_from_TCDF'\n",
    "datasets = [i for i in range(1, 29)]\n",
    "\n",
    "dest_folder = 'fMRI_init_data'\n",
    "cwd = os.getcwd()\n",
    "dest_folder = os.path.join(cwd, dest_folder)\n",
    "\n",
    "if not os.path.exists(dest_folder):\n",
    "    os.makedirs(dest_folder)\n",
    "\n",
    "max_data = 300\n",
    "\n",
    "for dataset in datasets:\n",
    "    filename = f'timeseries{dataset}.csv'\n",
    "    df = pd.read_csv(f'{ori_folder}/{filename}')\n",
    "    vertex_map = {}\n",
    "    for col in df.columns:\n",
    "        vertex_map[col] = f'X{col}'\n",
    "    df.rename(columns=vertex_map, inplace=True)\n",
    "    if df.shape[0] > max_data:\n",
    "        df = df.iloc[:max_data]\n",
    "    print(f'df.shape {df.shape}')\n",
    "    \n",
    "    filepath = f'{dest_folder}/{filename}'\n",
    "    df.to_csv(filepath, sep=',', index=False)"
   ]
  }
 ],
 "metadata": {
  "kernelspec": {
   "display_name": "Python 3 (ipykernel)",
   "language": "python",
   "name": "python3"
  },
  "language_info": {
   "codemirror_mode": {
    "name": "ipython",
    "version": 3
   },
   "file_extension": ".py",
   "mimetype": "text/x-python",
   "name": "python",
   "nbconvert_exporter": "python",
   "pygments_lexer": "ipython3",
   "version": "3.8.16"
  }
 },
 "nbformat": 4,
 "nbformat_minor": 5
}
