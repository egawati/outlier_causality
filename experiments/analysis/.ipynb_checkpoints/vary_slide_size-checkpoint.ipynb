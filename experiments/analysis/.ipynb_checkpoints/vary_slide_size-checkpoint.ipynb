{
 "cells": [
  {
   "cell_type": "code",
   "execution_count": null,
   "id": "6bfb0192-f072-4f12-8a9f-8d721d0fbda9",
   "metadata": {
    "tags": []
   },
   "outputs": [],
   "source": [
    "import pandas as pd\n",
    "pd.set_option('display.precision', 3)\n",
    "\n",
    "import json\n",
    "import numpy as np\n",
    "import scipy.stats as stats\n",
    "\n",
    "import seaborn as sns\n",
    "import matplotlib.pyplot as plt\n",
    "from matplotlib.backends.backend_pdf import PdfPages\n",
    "\n",
    "from ipynb.fs.full.graphics import draw_multiple_plots"
   ]
  },
  {
   "cell_type": "code",
   "execution_count": null,
   "id": "73daaf99-a13e-408e-b618-38f8b8f7f0e0",
   "metadata": {},
   "outputs": [],
   "source": [
    "def get_performance_metrics(filepath):\n",
    "    with open(filepath) as file:\n",
    "        contents = file.read()\n",
    "    parsed_json = json.loads(contents)\n",
    "    f1 = parsed_json['accuracy_metrics']['f1']\n",
    "    avg_explanation_time = parsed_json['average_explanation_time']\n",
    "    return f1, avg_explanation_time\n",
    "\n",
    "def summarise_performance_metrics(slide_sizes, \n",
    "                                  num_nodes=6, \n",
    "                                  folder=f'windows/branch', \n",
    "                                  nslide_used=2,\n",
    "                                  root_cause_gt='X1',\n",
    "                                 ):\n",
    "    result_f1 = {}\n",
    "    result_avg_exp_time = {}\n",
    "    for slide_size in slide_sizes:\n",
    "        nodes = [f'X{i}' for i in range(1, num_nodes+1)]\n",
    "        root_cause = 'X1'\n",
    "        target_node = f'X{num_nodes}'\n",
    "        \n",
    "        bname = f'{num_nodes}_nodes_{root_cause_gt}_{target_node}'\n",
    "        filename = f'performance_{bname}_{nslide_used}.json'\n",
    "        filepath = f'{folder}/slide_{slide_size}/{filename}'\n",
    "        f1, avg_exp_time = get_performance_metrics(filepath)\n",
    "        result_f1[slide_size] = f1\n",
    "        result_avg_exp_time[slide_size] = avg_exp_time\n",
    "    return result_f1, result_avg_exp_time"
   ]
  },
  {
   "cell_type": "markdown",
   "id": "294f1c95-1fa9-4554-81c4-bbde00969f51",
   "metadata": {},
   "source": [
    "## Varying number of nodes of causal graph with branches"
   ]
  },
  {
   "cell_type": "code",
   "execution_count": null,
   "id": "2d9cd2a4-37c9-4728-a4cf-7dd0edd5c08f",
   "metadata": {
    "tags": []
   },
   "outputs": [],
   "source": [
    "causal_graph_type = 'branch'\n",
    "slide_sizes = (6, 12, 18, 24)\n",
    "\n",
    "alg = 'ocular'\n",
    "folder = f'../{alg}/result/slides/branch'\n",
    "shapley_config_str = \"AUTO\" \n",
    "f1_scores_ocular, avg_time_ocular = summarise_performance_metrics(slide_sizes, \n",
    "                                  num_nodes=6, \n",
    "                                  folder=folder,\n",
    "                                  nslide_used=2)\n",
    "alg = 'gcm'\n",
    "folder = f'../{alg}/result/slides/branch'\n",
    "shapley_config_str = \"AUTO\" \n",
    "f1_scores_gcm, avg_time_gcm = summarise_performance_metrics(slide_sizes, \n",
    "                                  num_nodes=6, \n",
    "                                  folder=folder,\n",
    "                                  nslide_used=2)\n",
    "\n",
    "#slide_sizes = f1_scores_ocular.keys()\n",
    "slide_sizes = (1, 2, 3, 4)\n",
    "slide_sizes = [f'{i}' for i in slide_sizes]\n",
    "f1_ocular = f1_scores_ocular.values()\n",
    "f1_gcm = f1_scores_gcm.values()\n",
    "\n",
    "data_dict = {}\n",
    "\n",
    "data_dict[0] = {'ys': (f1_gcm, f1_ocular), \n",
    "                'X'  : slide_sizes,\n",
    "                'ylabel' : 'F1 Score',\n",
    "                'xlabel' : 'slide size (minutes)',\n",
    "                'lines' : ('--o', '-^', ), \n",
    "                'labels' : ('CausalRCA', 'Ocular'), \n",
    "                'colors' : ('#1e8532', '#ff005a', ),\n",
    "               'yticks' : None,\n",
    "               'xticks' : None}\n",
    "                        \n",
    "avg_exp_time_ocular = avg_time_ocular.values()\n",
    "avg_exp_time_gcm = avg_time_gcm.values()\n",
    "\n",
    "data_dict[1] = {'ys' : (avg_exp_time_gcm, avg_exp_time_ocular),\n",
    "                'X'  : slide_sizes,\n",
    "                'ylabel' : 'avg exp time (seconds)',\n",
    "                'xlabel' : 'slide size (minutes)',\n",
    "                'lines' : ('--o', '-^', ), \n",
    "                'labels' : ('CausalRCA', 'Ocular'), \n",
    "                'colors' : ('#1e8532', '#ff005a', ),\n",
    "                'yticks' : None,\n",
    "                'xticks' : None,\n",
    "               }\n",
    "\n",
    "fig = draw_multiple_plots(data_dict, \n",
    "                    nsubplots = 2, figsize=(12,1.5), sharey=False)\n",
    "\n",
    "pp = PdfPages(f'vary_slide_size_{causal_graph_type}.pdf')\n",
    "pp.savefig(fig, tight_layout=True, bbox_inches = \"tight\")\n",
    "pp.close()"
   ]
  }
 ],
 "metadata": {
  "kernelspec": {
   "display_name": "Python 3 (ipykernel)",
   "language": "python",
   "name": "python3"
  },
  "language_info": {
   "codemirror_mode": {
    "name": "ipython",
    "version": 3
   },
   "file_extension": ".py",
   "mimetype": "text/x-python",
   "name": "python",
   "nbconvert_exporter": "python",
   "pygments_lexer": "ipython3",
   "version": "3.8.16"
  }
 },
 "nbformat": 4,
 "nbformat_minor": 5
}
